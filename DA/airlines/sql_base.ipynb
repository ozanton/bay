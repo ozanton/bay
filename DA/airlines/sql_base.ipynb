{
 "cells": [
  {
   "cell_type": "markdown",
   "id": "4c7ce0bd",
   "metadata": {},
   "source": [
    "# Work with database"
   ]
  },
  {
   "cell_type": "markdown",
   "id": "17ccddd2",
   "metadata": {},
   "source": [
    "Downloading the data from SQL database"
   ]
  },
  {
   "cell_type": "markdown",
   "id": "95d45f15",
   "metadata": {},
   "source": [
    "The number of flights on each model of aircraft departing in September 2018."
   ]
  },
  {
   "cell_type": "code",
   "execution_count": null,
   "id": "812fbcc2",
   "metadata": {},
   "outputs": [],
   "source": [
    "'''\n",
    "SELECT\n",
    "    DISTINCT aircrafts.model AS model,\n",
    "    COUNT(flights.flight_id) AS flight_amount\n",
    "FROM \n",
    "    aircrafts\n",
    "INNER JOIN flights ON flights.aircraft_code = aircrafts.aircraft_code\n",
    "WHERE\n",
    "    flights.departure_time::date >= '2018-09-01' AND\n",
    "    flights.departure_time::date < '2018-10-01'\n",
    "\n",
    "GROUP BY aircrafts.model\n",
    "'''"
   ]
  },
  {
   "cell_type": "code",
   "execution_count": null,
   "id": "b90072b9-602d-43a5-b32d-661d1be1155a",
   "metadata": {},
   "outputs": [],
   "source": [
    "'''\n",
    "Airbus A319-100\t607\n",
    "Airbus A321-200\t960\n",
    "Boeing 737-300\t630\n",
    "Boeing 767-300\t600\n",
    "Boeing 777-300\t300\n",
    "Bombardier CRJ-200\t4446\n",
    "Cessna 208 Caravan\t4557\n",
    "Sukhoi SuperJet-100\t4185\n",
    "'''"
   ]
  },
  {
   "cell_type": "markdown",
   "id": "ebab173c",
   "metadata": {},
   "source": [
    "The number of flights dispatched in September by the following models of aircraft:\n",
    "* Boeing,\n",
    "* Airbus,\n",
    "* other (\"other\")."
   ]
  },
  {
   "cell_type": "code",
   "execution_count": null,
   "id": "1786c2cb",
   "metadata": {},
   "outputs": [],
   "source": [
    "'''\n",
    " SELECT\n",
    "    CASE WHEN model LIKE '%Boeing%' THEN 'Boeing'\n",
    "   WHEN model LIKE '%Airbus%' THEN 'Airbus'\n",
    "   ELSE \n",
    "       'other'\n",
    "   END AS model,\n",
    "    COUNT(flights.flight_id) AS flight_amount\n",
    "FROM \n",
    "    aircrafts\n",
    "INNER JOIN flights ON flights.aircraft_code = aircrafts.aircraft_code\n",
    "WHERE\n",
    "    flights.departure_time::date >= '2018-09-01' AND\n",
    "    flights.departure_time::date < '2018-10-01'\n",
    "\n",
    "GROUP BY \n",
    "   CASE WHEN model LIKE '%Boeing%' THEN 'Boeing'\n",
    "   WHEN model LIKE '%Airbus%' THEN 'Airbus'\n",
    "   ELSE \n",
    "       'other'\n",
    "   END\n",
    "'''"
   ]
  },
  {
   "cell_type": "code",
   "execution_count": null,
   "id": "421c8c47-ec77-43dd-9532-ff29eae75226",
   "metadata": {},
   "outputs": [],
   "source": [
    "'''\n",
    "Airbus 1567\n",
    "Boeing 1530\n",
    "other 13188\n",
    "'''"
   ]
  },
  {
   "cell_type": "markdown",
   "id": "bdb8c020",
   "metadata": {},
   "source": [
    "Average number of arriving flights per day for each city for August 2018."
   ]
  },
  {
   "cell_type": "code",
   "execution_count": null,
   "id": "25a287f9",
   "metadata": {},
   "outputs": [],
   "source": [
    "'''\n",
    "SELECT subq.city,\n",
    "       avg(subq.num_flights) AS average_flights\n",
    "FROM\n",
    "    (SELECT airports.city AS city,\n",
    "            count(flights.flight_id) AS num_flights,\n",
    "            extract(DAY\n",
    "                    FROM flights.arrival_time :: date) AS DAY\n",
    "     FROM flights\n",
    "     JOIN airports ON airports.airport_code = flights.arrival_airport\n",
    "     WHERE (flights.arrival_time :: date < '2018-09-01'\n",
    "            AND flights.arrival_time :: date >= '2018-08-01')\n",
    "     GROUP BY airports.city,\n",
    "              extract(DAY\n",
    "                      FROM flights.arrival_time :: date)) AS subq\n",
    "GROUP BY subq.city\n",
    "ORDER BY average_flights\n",
    "'''"
   ]
  },
  {
   "cell_type": "code",
   "execution_count": null,
   "id": "611610ac-5d51-4e8c-8234-a2da76b18bc1",
   "metadata": {},
   "outputs": [],
   "source": [
    "''' \n",
    "city average_flights\n",
    "Москва 129.774\n",
    "Санкт-Петербург 31.1613\n",
    "Новосибирск 17.3226\n",
    "Красноярск 11.5806\n",
    "Екатеринбург 11.3226\n",
    "'''"
   ]
  },
  {
   "cell_type": "markdown",
   "id": "dcc58b71",
   "metadata": {},
   "source": [
    "Festivals that took place from July 23 to September 30, 2018 in Moscow, and the number of the week in which they took place."
   ]
  },
  {
   "cell_type": "code",
   "execution_count": null,
   "id": "eb6d836e",
   "metadata": {},
   "outputs": [],
   "source": [
    "'''\n",
    "select \n",
    "    festivals.festival_name as festival_name,\n",
    "    extract(week from festivals.festival_date) as festival_week\n",
    "from \n",
    "    festivals\n",
    "where\n",
    "    festival_city = 'Москва' and\n",
    "     festivals.festival_date::date >= '2018-07-23' and\n",
    "     festivals.festival_date::date <= '2018-09-30'\n",
    "'''"
   ]
  },
  {
   "cell_type": "code",
   "execution_count": null,
   "id": "a1d52f3a-732b-4563-8757-c5e530662ac0",
   "metadata": {},
   "outputs": [],
   "source": [
    "'''\n",
    "festival_name festival_week\n",
    "Park Live 30\n",
    "Пикник Афиши 31\n",
    "Видфест 36\n",
    "'''"
   ]
  },
  {
   "cell_type": "markdown",
   "id": "e946540d",
   "metadata": {},
   "source": [
    "For each week from July 23 to September 30, 2018, the tickets that were purchased for flights to Moscow were counted.  \n",
    "A table is obtained:\n",
    "* the number of tickets purchased for the week;\n",
    "* mark whether there was a festival that week;\n",
    "* name of the festival;\n",
    "* number of the week."
   ]
  },
  {
   "cell_type": "code",
   "execution_count": null,
   "id": "25425e66",
   "metadata": {},
   "outputs": [],
   "source": [
    "'''\n",
    "SELECT \n",
    "\tT.week_number,\n",
    "\tT.ticket_amount,\n",
    "\tT.festival_week,\n",
    "\tT.festival_name\n",
    "FROM (\n",
    "(\n",
    "  SELECT EXTRACT(week from flights.arrival_time::date) as week_number,\n",
    "          COUNT (ticket_flights.ticket_no) as ticket_amount\n",
    "  FROM flights\n",
    "  JOIN airports on airports.airport_code = flights.arrival_airport\n",
    "  JOIN ticket_flights on ticket_flights.flight_id = flights.flight_id\n",
    "  WHERE airports.city = 'Москва' and\n",
    "        CAST(flights.arrival_time AS date) BETWEEN '2018-07-23' AND '2018-09-30'\n",
    "  GROUP BY week_number\n",
    ") t1\n",
    "LEFT JOIN \n",
    "(SELECT \t\t\n",
    "\t\tfestival_name,\t\n",
    "\t\tEXTRACT (week FROM festivals.festival_date) AS festival_week\n",
    "\tFROM \n",
    "\t\tfestivals\n",
    "\tWHERE\n",
    "\t\tfestival_city = 'Москва'\n",
    "\t  AND CAST(festivals.festival_date AS date) BETWEEN '2018-07-23' AND '2018-09-30'\n",
    ") t2 \n",
    "ON \n",
    "\tt1.week_number = t2.festival_week\n",
    ") AS T\n",
    "'''"
   ]
  },
  {
   "cell_type": "code",
   "execution_count": null,
   "id": "cdf0a8a3",
   "metadata": {},
   "outputs": [],
   "source": [
    "'''\n",
    "week_number ticket_amount festival_week festival_name\n",
    "33 51378 nan \n",
    "31 51034 31 Пикник Афиши\n",
    "38 51518 nan \n",
    "30 43568 30 Park Live\n",
    "32 51675 na\n",
    "34 51492 nan\n",
    "3 51360 nan\n",
    "37 51670 nan \n",
    "36 51386 36 Видфест\n",
    "39 51623 nan \n",
    "'''"
   ]
  }
 ],
 "metadata": {
  "kernelspec": {
   "display_name": "Python 3 (ipykernel)",
   "language": "python",
   "name": "python3"
  },
  "language_info": {
   "codemirror_mode": {
    "name": "ipython",
    "version": 3
   },
   "file_extension": ".py",
   "mimetype": "text/x-python",
   "name": "python",
   "nbconvert_exporter": "python",
   "pygments_lexer": "ipython3",
   "version": "3.10.8"
  },
  "toc": {
   "base_numbering": 1,
   "nav_menu": {},
   "number_sections": true,
   "sideBar": true,
   "skip_h1_title": true,
   "title_cell": "Содержание",
   "title_sidebar": "Contents",
   "toc_cell": false,
   "toc_position": {},
   "toc_section_display": true,
   "toc_window_display": false
  }
 },
 "nbformat": 4,
 "nbformat_minor": 5
}

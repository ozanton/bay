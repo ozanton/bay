{
 "cells": [
  {
   "cell_type": "markdown",
   "metadata": {},
   "source": [
    "# Determining the value of cars"
   ]
  },
  {
   "cell_type": "markdown",
   "metadata": {},
   "source": [
    "**Data description**\n",
    "\n",
    "Features  \n",
    "\n",
    "\n",
    "DateCrawled - date the questionnaire was downloaded from the database  \n",
    "VehicleType - type of car body  \n",
    "RegistrationYear - year of car registration  \n",
    "Gearbox - gearbox type  \n",
    "Power - power (hp)  \n",
    "Model - car model  \n",
    "Kilometer - mileage (km)  \n",
    "RegistrationMonth - month of the car registration  \n",
    "FuelType - fuel type  \n",
    "Brand - car brand  \n",
    "NotRepaired - if the car was repaired or not  \n",
    "DateCreated - date of questionnaire creation  \n",
    "NumberOfPictures - number of car pictures  \n",
    "PostalCode - postal code of questionnaire owner (user)  \n",
    "LastSeen - date of the last activity of the user  \n",
    "\n",
    "\n",
    "Target feature  \n",
    "Price - price (euro)  \n"
   ]
  },
  {
   "cell_type": "markdown",
   "metadata": {},
   "source": [
    "## Data preparation"
   ]
  },
  {
   "cell_type": "code",
   "execution_count": 1,
   "metadata": {},
   "outputs": [],
   "source": [
    "import pandas as pd\n",
    "import matplotlib.pyplot as plt\n",
    "import numpy as np\n",
    "from sklearn.compose import ColumnTransformer\n",
    "from sklearn.pipeline import Pipeline\n",
    "from sklearn.impute import SimpleImputer\n",
    "from sklearn.preprocessing import StandardScaler, OneHotEncoder\n",
    "from sklearn.metrics import mean_squared_error\n",
    "from sklearn.model_selection import train_test_split\n",
    "from tqdm.notebook import tqdm\n",
    "from sklearn.metrics import make_scorer\n",
    "from sklearn.linear_model import LinearRegression\n",
    "from sklearn.model_selection import cross_val_score\n",
    "import lightgbm as lgb\n",
    "from sklearn.model_selection import GridSearchCV\n",
    "from catboost import CatBoostRegressor\n",
    "from catboost import Pool, cv\n",
    "from datetime import datetime \n",
    "import time"
   ]
  },
  {
   "cell_type": "code",
   "execution_count": 2,
   "metadata": {},
   "outputs": [],
   "source": [
    "df = pd.read_csv('../../datasets/autos.csv')"
   ]
  },
  {
   "cell_type": "code",
   "execution_count": 3,
   "metadata": {},
   "outputs": [
    {
     "name": "stdout",
     "output_type": "stream",
     "text": [
      "<class 'pandas.core.frame.DataFrame'>\n",
      "RangeIndex: 354369 entries, 0 to 354368\n",
      "Data columns (total 16 columns):\n",
      " #   Column             Non-Null Count   Dtype \n",
      "---  ------             --------------   ----- \n",
      " 0   DateCrawled        354369 non-null  object\n",
      " 1   Price              354369 non-null  int64 \n",
      " 2   VehicleType        316879 non-null  object\n",
      " 3   RegistrationYear   354369 non-null  int64 \n",
      " 4   Gearbox            334536 non-null  object\n",
      " 5   Power              354369 non-null  int64 \n",
      " 6   Model              334664 non-null  object\n",
      " 7   Kilometer          354369 non-null  int64 \n",
      " 8   RegistrationMonth  354369 non-null  int64 \n",
      " 9   FuelType           321474 non-null  object\n",
      " 10  Brand              354369 non-null  object\n",
      " 11  NotRepaired        283215 non-null  object\n",
      " 12  DateCreated        354369 non-null  object\n",
      " 13  NumberOfPictures   354369 non-null  int64 \n",
      " 14  PostalCode         354369 non-null  int64 \n",
      " 15  LastSeen           354369 non-null  object\n",
      "dtypes: int64(7), object(9)\n",
      "memory usage: 43.3+ MB\n"
     ]
    }
   ],
   "source": [
    "df.info()"
   ]
  },
  {
   "cell_type": "code",
   "execution_count": 4,
   "metadata": {},
   "outputs": [
    {
     "data": {
      "text/plain": [
       "DateCrawled              0\n",
       "Price                    0\n",
       "VehicleType          37490\n",
       "RegistrationYear         0\n",
       "Gearbox              19833\n",
       "Power                    0\n",
       "Model                19705\n",
       "Kilometer                0\n",
       "RegistrationMonth        0\n",
       "FuelType             32895\n",
       "Brand                    0\n",
       "NotRepaired          71154\n",
       "DateCreated              0\n",
       "NumberOfPictures         0\n",
       "PostalCode               0\n",
       "LastSeen                 0\n",
       "dtype: int64"
      ]
     },
     "execution_count": 4,
     "metadata": {},
     "output_type": "execute_result"
    }
   ],
   "source": [
    "df.isna().sum()"
   ]
  },
  {
   "cell_type": "code",
   "execution_count": 5,
   "metadata": {},
   "outputs": [
    {
     "data": {
      "text/plain": [
       "DateCrawled          0.000000\n",
       "Price                0.000000\n",
       "VehicleType          0.105794\n",
       "RegistrationYear     0.000000\n",
       "Gearbox              0.055967\n",
       "Power                0.000000\n",
       "Model                0.055606\n",
       "Kilometer            0.000000\n",
       "RegistrationMonth    0.000000\n",
       "FuelType             0.092827\n",
       "Brand                0.000000\n",
       "NotRepaired          0.200791\n",
       "DateCreated          0.000000\n",
       "NumberOfPictures     0.000000\n",
       "PostalCode           0.000000\n",
       "LastSeen             0.000000\n",
       "dtype: float64"
      ]
     },
     "execution_count": 5,
     "metadata": {},
     "output_type": "execute_result"
    }
   ],
   "source": [
    "df.isna().mean()"
   ]
  },
  {
   "cell_type": "markdown",
   "metadata": {},
   "source": [
    "The data contains 354369 rows and 16 columns. There are gaps in data. "
   ]
  },
  {
   "cell_type": "code",
   "execution_count": 6,
   "metadata": {},
   "outputs": [
    {
     "data": {
      "text/html": [
       "<div>\n",
       "<style scoped>\n",
       "    .dataframe tbody tr th:only-of-type {\n",
       "        vertical-align: middle;\n",
       "    }\n",
       "\n",
       "    .dataframe tbody tr th {\n",
       "        vertical-align: top;\n",
       "    }\n",
       "\n",
       "    .dataframe thead th {\n",
       "        text-align: right;\n",
       "    }\n",
       "</style>\n",
       "<table border=\"1\" class=\"dataframe\">\n",
       "  <thead>\n",
       "    <tr style=\"text-align: right;\">\n",
       "      <th></th>\n",
       "      <th>DateCrawled</th>\n",
       "      <th>Price</th>\n",
       "      <th>VehicleType</th>\n",
       "      <th>RegistrationYear</th>\n",
       "      <th>Gearbox</th>\n",
       "      <th>Power</th>\n",
       "      <th>Model</th>\n",
       "      <th>Kilometer</th>\n",
       "      <th>RegistrationMonth</th>\n",
       "      <th>FuelType</th>\n",
       "      <th>Brand</th>\n",
       "      <th>NotRepaired</th>\n",
       "      <th>DateCreated</th>\n",
       "      <th>NumberOfPictures</th>\n",
       "      <th>PostalCode</th>\n",
       "      <th>LastSeen</th>\n",
       "    </tr>\n",
       "  </thead>\n",
       "  <tbody>\n",
       "    <tr>\n",
       "      <th>0</th>\n",
       "      <td>2016-03-24 11:52:17</td>\n",
       "      <td>480</td>\n",
       "      <td>NaN</td>\n",
       "      <td>1993</td>\n",
       "      <td>manual</td>\n",
       "      <td>0</td>\n",
       "      <td>golf</td>\n",
       "      <td>150000</td>\n",
       "      <td>0</td>\n",
       "      <td>petrol</td>\n",
       "      <td>volkswagen</td>\n",
       "      <td>NaN</td>\n",
       "      <td>2016-03-24 00:00:00</td>\n",
       "      <td>0</td>\n",
       "      <td>70435</td>\n",
       "      <td>2016-04-07 03:16:57</td>\n",
       "    </tr>\n",
       "    <tr>\n",
       "      <th>1</th>\n",
       "      <td>2016-03-24 10:58:45</td>\n",
       "      <td>18300</td>\n",
       "      <td>coupe</td>\n",
       "      <td>2011</td>\n",
       "      <td>manual</td>\n",
       "      <td>190</td>\n",
       "      <td>NaN</td>\n",
       "      <td>125000</td>\n",
       "      <td>5</td>\n",
       "      <td>gasoline</td>\n",
       "      <td>audi</td>\n",
       "      <td>yes</td>\n",
       "      <td>2016-03-24 00:00:00</td>\n",
       "      <td>0</td>\n",
       "      <td>66954</td>\n",
       "      <td>2016-04-07 01:46:50</td>\n",
       "    </tr>\n",
       "    <tr>\n",
       "      <th>2</th>\n",
       "      <td>2016-03-14 12:52:21</td>\n",
       "      <td>9800</td>\n",
       "      <td>suv</td>\n",
       "      <td>2004</td>\n",
       "      <td>auto</td>\n",
       "      <td>163</td>\n",
       "      <td>grand</td>\n",
       "      <td>125000</td>\n",
       "      <td>8</td>\n",
       "      <td>gasoline</td>\n",
       "      <td>jeep</td>\n",
       "      <td>NaN</td>\n",
       "      <td>2016-03-14 00:00:00</td>\n",
       "      <td>0</td>\n",
       "      <td>90480</td>\n",
       "      <td>2016-04-05 12:47:46</td>\n",
       "    </tr>\n",
       "    <tr>\n",
       "      <th>3</th>\n",
       "      <td>2016-03-17 16:54:04</td>\n",
       "      <td>1500</td>\n",
       "      <td>small</td>\n",
       "      <td>2001</td>\n",
       "      <td>manual</td>\n",
       "      <td>75</td>\n",
       "      <td>golf</td>\n",
       "      <td>150000</td>\n",
       "      <td>6</td>\n",
       "      <td>petrol</td>\n",
       "      <td>volkswagen</td>\n",
       "      <td>no</td>\n",
       "      <td>2016-03-17 00:00:00</td>\n",
       "      <td>0</td>\n",
       "      <td>91074</td>\n",
       "      <td>2016-03-17 17:40:17</td>\n",
       "    </tr>\n",
       "    <tr>\n",
       "      <th>4</th>\n",
       "      <td>2016-03-31 17:25:20</td>\n",
       "      <td>3600</td>\n",
       "      <td>small</td>\n",
       "      <td>2008</td>\n",
       "      <td>manual</td>\n",
       "      <td>69</td>\n",
       "      <td>fabia</td>\n",
       "      <td>90000</td>\n",
       "      <td>7</td>\n",
       "      <td>gasoline</td>\n",
       "      <td>skoda</td>\n",
       "      <td>no</td>\n",
       "      <td>2016-03-31 00:00:00</td>\n",
       "      <td>0</td>\n",
       "      <td>60437</td>\n",
       "      <td>2016-04-06 10:17:21</td>\n",
       "    </tr>\n",
       "  </tbody>\n",
       "</table>\n",
       "</div>"
      ],
      "text/plain": [
       "           DateCrawled  Price VehicleType  RegistrationYear Gearbox  Power  \\\n",
       "0  2016-03-24 11:52:17    480         NaN              1993  manual      0   \n",
       "1  2016-03-24 10:58:45  18300       coupe              2011  manual    190   \n",
       "2  2016-03-14 12:52:21   9800         suv              2004    auto    163   \n",
       "3  2016-03-17 16:54:04   1500       small              2001  manual     75   \n",
       "4  2016-03-31 17:25:20   3600       small              2008  manual     69   \n",
       "\n",
       "   Model  Kilometer  RegistrationMonth  FuelType       Brand NotRepaired  \\\n",
       "0   golf     150000                  0    petrol  volkswagen         NaN   \n",
       "1    NaN     125000                  5  gasoline        audi         yes   \n",
       "2  grand     125000                  8  gasoline        jeep         NaN   \n",
       "3   golf     150000                  6    petrol  volkswagen          no   \n",
       "4  fabia      90000                  7  gasoline       skoda          no   \n",
       "\n",
       "           DateCreated  NumberOfPictures  PostalCode             LastSeen  \n",
       "0  2016-03-24 00:00:00                 0       70435  2016-04-07 03:16:57  \n",
       "1  2016-03-24 00:00:00                 0       66954  2016-04-07 01:46:50  \n",
       "2  2016-03-14 00:00:00                 0       90480  2016-04-05 12:47:46  \n",
       "3  2016-03-17 00:00:00                 0       91074  2016-03-17 17:40:17  \n",
       "4  2016-03-31 00:00:00                 0       60437  2016-04-06 10:17:21  "
      ]
     },
     "execution_count": 6,
     "metadata": {},
     "output_type": "execute_result"
    }
   ],
   "source": [
    "df.head()"
   ]
  },
  {
   "cell_type": "code",
   "execution_count": 7,
   "metadata": {},
   "outputs": [
    {
     "data": {
      "text/html": [
       "<div>\n",
       "<style scoped>\n",
       "    .dataframe tbody tr th:only-of-type {\n",
       "        vertical-align: middle;\n",
       "    }\n",
       "\n",
       "    .dataframe tbody tr th {\n",
       "        vertical-align: top;\n",
       "    }\n",
       "\n",
       "    .dataframe thead th {\n",
       "        text-align: right;\n",
       "    }\n",
       "</style>\n",
       "<table border=\"1\" class=\"dataframe\">\n",
       "  <thead>\n",
       "    <tr style=\"text-align: right;\">\n",
       "      <th></th>\n",
       "      <th>DateCrawled</th>\n",
       "      <th>Price</th>\n",
       "      <th>VehicleType</th>\n",
       "      <th>RegistrationYear</th>\n",
       "      <th>Gearbox</th>\n",
       "      <th>Power</th>\n",
       "      <th>Model</th>\n",
       "      <th>Kilometer</th>\n",
       "      <th>RegistrationMonth</th>\n",
       "      <th>FuelType</th>\n",
       "      <th>Brand</th>\n",
       "      <th>NotRepaired</th>\n",
       "      <th>DateCreated</th>\n",
       "      <th>NumberOfPictures</th>\n",
       "      <th>PostalCode</th>\n",
       "      <th>LastSeen</th>\n",
       "    </tr>\n",
       "  </thead>\n",
       "  <tbody>\n",
       "    <tr>\n",
       "      <th>354364</th>\n",
       "      <td>2016-03-21 09:50:58</td>\n",
       "      <td>0</td>\n",
       "      <td>NaN</td>\n",
       "      <td>2005</td>\n",
       "      <td>manual</td>\n",
       "      <td>0</td>\n",
       "      <td>colt</td>\n",
       "      <td>150000</td>\n",
       "      <td>7</td>\n",
       "      <td>petrol</td>\n",
       "      <td>mitsubishi</td>\n",
       "      <td>yes</td>\n",
       "      <td>2016-03-21 00:00:00</td>\n",
       "      <td>0</td>\n",
       "      <td>2694</td>\n",
       "      <td>2016-03-21 10:42:49</td>\n",
       "    </tr>\n",
       "    <tr>\n",
       "      <th>354365</th>\n",
       "      <td>2016-03-14 17:48:27</td>\n",
       "      <td>2200</td>\n",
       "      <td>NaN</td>\n",
       "      <td>2005</td>\n",
       "      <td>NaN</td>\n",
       "      <td>0</td>\n",
       "      <td>NaN</td>\n",
       "      <td>20000</td>\n",
       "      <td>1</td>\n",
       "      <td>NaN</td>\n",
       "      <td>sonstige_autos</td>\n",
       "      <td>NaN</td>\n",
       "      <td>2016-03-14 00:00:00</td>\n",
       "      <td>0</td>\n",
       "      <td>39576</td>\n",
       "      <td>2016-04-06 00:46:52</td>\n",
       "    </tr>\n",
       "    <tr>\n",
       "      <th>354366</th>\n",
       "      <td>2016-03-05 19:56:21</td>\n",
       "      <td>1199</td>\n",
       "      <td>convertible</td>\n",
       "      <td>2000</td>\n",
       "      <td>auto</td>\n",
       "      <td>101</td>\n",
       "      <td>fortwo</td>\n",
       "      <td>125000</td>\n",
       "      <td>3</td>\n",
       "      <td>petrol</td>\n",
       "      <td>smart</td>\n",
       "      <td>no</td>\n",
       "      <td>2016-03-05 00:00:00</td>\n",
       "      <td>0</td>\n",
       "      <td>26135</td>\n",
       "      <td>2016-03-11 18:17:12</td>\n",
       "    </tr>\n",
       "    <tr>\n",
       "      <th>354367</th>\n",
       "      <td>2016-03-19 18:57:12</td>\n",
       "      <td>9200</td>\n",
       "      <td>bus</td>\n",
       "      <td>1996</td>\n",
       "      <td>manual</td>\n",
       "      <td>102</td>\n",
       "      <td>transporter</td>\n",
       "      <td>150000</td>\n",
       "      <td>3</td>\n",
       "      <td>gasoline</td>\n",
       "      <td>volkswagen</td>\n",
       "      <td>no</td>\n",
       "      <td>2016-03-19 00:00:00</td>\n",
       "      <td>0</td>\n",
       "      <td>87439</td>\n",
       "      <td>2016-04-07 07:15:26</td>\n",
       "    </tr>\n",
       "    <tr>\n",
       "      <th>354368</th>\n",
       "      <td>2016-03-20 19:41:08</td>\n",
       "      <td>3400</td>\n",
       "      <td>wagon</td>\n",
       "      <td>2002</td>\n",
       "      <td>manual</td>\n",
       "      <td>100</td>\n",
       "      <td>golf</td>\n",
       "      <td>150000</td>\n",
       "      <td>6</td>\n",
       "      <td>gasoline</td>\n",
       "      <td>volkswagen</td>\n",
       "      <td>NaN</td>\n",
       "      <td>2016-03-20 00:00:00</td>\n",
       "      <td>0</td>\n",
       "      <td>40764</td>\n",
       "      <td>2016-03-24 12:45:21</td>\n",
       "    </tr>\n",
       "  </tbody>\n",
       "</table>\n",
       "</div>"
      ],
      "text/plain": [
       "                DateCrawled  Price  VehicleType  RegistrationYear Gearbox  \\\n",
       "354364  2016-03-21 09:50:58      0          NaN              2005  manual   \n",
       "354365  2016-03-14 17:48:27   2200          NaN              2005     NaN   \n",
       "354366  2016-03-05 19:56:21   1199  convertible              2000    auto   \n",
       "354367  2016-03-19 18:57:12   9200          bus              1996  manual   \n",
       "354368  2016-03-20 19:41:08   3400        wagon              2002  manual   \n",
       "\n",
       "        Power        Model  Kilometer  RegistrationMonth  FuelType  \\\n",
       "354364      0         colt     150000                  7    petrol   \n",
       "354365      0          NaN      20000                  1       NaN   \n",
       "354366    101       fortwo     125000                  3    petrol   \n",
       "354367    102  transporter     150000                  3  gasoline   \n",
       "354368    100         golf     150000                  6  gasoline   \n",
       "\n",
       "                 Brand NotRepaired          DateCreated  NumberOfPictures  \\\n",
       "354364      mitsubishi         yes  2016-03-21 00:00:00                 0   \n",
       "354365  sonstige_autos         NaN  2016-03-14 00:00:00                 0   \n",
       "354366           smart          no  2016-03-05 00:00:00                 0   \n",
       "354367      volkswagen          no  2016-03-19 00:00:00                 0   \n",
       "354368      volkswagen         NaN  2016-03-20 00:00:00                 0   \n",
       "\n",
       "        PostalCode             LastSeen  \n",
       "354364        2694  2016-03-21 10:42:49  \n",
       "354365       39576  2016-04-06 00:46:52  \n",
       "354366       26135  2016-03-11 18:17:12  \n",
       "354367       87439  2016-04-07 07:15:26  \n",
       "354368       40764  2016-03-24 12:45:21  "
      ]
     },
     "execution_count": 7,
     "metadata": {},
     "output_type": "execute_result"
    }
   ],
   "source": [
    "df.tail()"
   ]
  },
  {
   "cell_type": "markdown",
   "metadata": {},
   "source": [
    "Let us select from the sample the numerical and categorical attributes, which are further necessary for the training of models."
   ]
  },
  {
   "cell_type": "code",
   "execution_count": 8,
   "metadata": {},
   "outputs": [],
   "source": [
    "numeric = ['Price', 'RegistrationYear', 'Power', 'Kilometer', 'RegistrationMonth', 'NumberOfPictures']"
   ]
  },
  {
   "cell_type": "code",
   "execution_count": 9,
   "metadata": {},
   "outputs": [],
   "source": [
    "categorical_features = ['VehicleType', 'Gearbox', 'Model', 'FuelType', 'Brand', 'NotRepaired', 'PostalCode']"
   ]
  },
  {
   "cell_type": "markdown",
   "metadata": {},
   "source": [
    "Let's build histograms for numerical signs, for this we will write a function."
   ]
  },
  {
   "cell_type": "code",
   "execution_count": 10,
   "metadata": {},
   "outputs": [],
   "source": [
    "def hist_plot(list):\n",
    "    for i in list:\n",
    "        df.plot(y = i, kind = 'hist', bins = 100, figsize = (6,6))\n",
    "        plt.ylabel('Frequency')\n",
    "        plt.title(i)\n",
    "        plt.xlabel(i)\n",
    "        plt.show()"
   ]
  },
  {
   "cell_type": "code",
   "execution_count": 11,
   "metadata": {},
   "outputs": [
    {
     "data": {
      "text/plain": [
       "Index(['DateCrawled', 'Price', 'VehicleType', 'RegistrationYear', 'Gearbox',\n",
       "       'Power', 'Model', 'Kilometer', 'RegistrationMonth', 'FuelType', 'Brand',\n",
       "       'NotRepaired', 'DateCreated', 'NumberOfPictures', 'PostalCode',\n",
       "       'LastSeen'],\n",
       "      dtype='object')"
      ]
     },
     "execution_count": 11,
     "metadata": {},
     "output_type": "execute_result"
    }
   ],
   "source": [
    "df.columns"
   ]
  },
  {
   "cell_type": "code",
   "execution_count": 12,
   "metadata": {},
   "outputs": [],
   "source": [
    "df_initial_length = len(df)"
   ]
  },
  {
   "cell_type": "code",
   "execution_count": 13,
   "metadata": {},
   "outputs": [
    {
     "data": {
      "image/png": "[encoded data removed]",
      "text/plain": [
       "<Figure size 600x600 with 1 Axes>"
      ]
     },
     "metadata": {},
     "output_type": "display_data"
    },
    {
     "data": {
      "image/png": "[encoded data removed]",
      "text/plain": [
       "<Figure size 600x600 with 1 Axes>"
      ]
     },
     "metadata": {},
     "output_type": "display_data"
    },
    {
     "data": {
      "image/png": "[encoded data removed]",
      "text/plain": [
       "<Figure size 600x600 with 1 Axes>"
      ]
     },
     "metadata": {},
     "output_type": "display_data"
    },
    {
     "data": {
      "image/png": "[encoded data removed]",
      "text/plain": [
       "<Figure size 600x600 with 1 Axes>"
      ]
     },
     "metadata": {},
     "output_type": "display_data"
    },
    {
     "data": {
      "image/png": "[encoded data removed]",
      "text/plain": [
       "<Figure size 600x600 with 1 Axes>"
      ]
     },
     "metadata": {},
     "output_type": "display_data"
    },
    {
     "data": {
      "image/png": "[encoded data removed]",
      "text/plain": [
       "<Figure size 600x600 with 1 Axes>"
      ]
     },
     "metadata": {},
     "output_type": "display_data"
    }
   ],
   "source": [
    "hist_plot(numeric)"
   ]
  },
  {
   "cell_type": "markdown",
   "metadata": {},
   "source": [
    "Гистограммы показывают, что необходимо рассмотреть каждый признак в отдельности более подробно, так как есть пики в районе нуля в признаках `Price`, `Power`, а также не верно указан год регистрации автомобиля."
   ]
  },
  {
   "cell_type": "code",
   "execution_count": 14,
   "metadata": {},
   "outputs": [
    {
     "data": {
      "text/plain": [
       "<AxesSubplot:>"
      ]
     },
     "execution_count": 14,
     "metadata": {},
     "output_type": "execute_result"
    },
    {
     "data": {
      "image/png": "[encoded data removed]",
      "text/plain": [
       "<Figure size 640x480 with 1 Axes>"
      ]
     },
     "metadata": {},
     "output_type": "display_data"
    }
   ],
   "source": [
    "df['Price'].hist(range = (0,200), bins = 100)"
   ]
  },
  {
   "cell_type": "markdown",
   "metadata": {},
   "source": [
    "В признеке `Price` на гистограмме виден пик при цене 0."
   ]
  },
  {
   "cell_type": "code",
   "execution_count": 15,
   "metadata": {},
   "outputs": [
    {
     "data": {
      "text/plain": [
       "10772"
      ]
     },
     "execution_count": 15,
     "metadata": {},
     "output_type": "execute_result"
    }
   ],
   "source": [
    "df['Price'][df['Price'] == 0].count()"
   ]
  },
  {
   "cell_type": "code",
   "execution_count": 16,
   "metadata": {},
   "outputs": [
    {
     "data": {
      "text/plain": [
       "0.030397692800442477"
      ]
     },
     "execution_count": 16,
     "metadata": {},
     "output_type": "execute_result"
    }
   ],
   "source": [
    "df['Price'][df['Price'] == 0].count()/df_initial_length"
   ]
  },
  {
   "cell_type": "markdown",
   "metadata": {},
   "source": [
    "The total number of objects in which the value of the car is zero is 3%. Delete lines where `Price` equals zero."
   ]
  },
  {
   "cell_type": "code",
   "execution_count": 17,
   "metadata": {},
   "outputs": [],
   "source": [
    "df = df[df['Price'] != 0]"
   ]
  },
  {
   "cell_type": "code",
   "execution_count": 18,
   "metadata": {},
   "outputs": [
    {
     "data": {
      "text/plain": [
       "10772"
      ]
     },
     "execution_count": 18,
     "metadata": {},
     "output_type": "execute_result"
    }
   ],
   "source": [
    "df_initial_length - len(df)"
   ]
  },
  {
   "cell_type": "code",
   "execution_count": 19,
   "metadata": {},
   "outputs": [],
   "source": [
    "length2 = len(df)"
   ]
  },
  {
   "cell_type": "code",
   "execution_count": 20,
   "metadata": {},
   "outputs": [
    {
     "data": {
      "image/png": "[encoded data removed]",
      "text/plain": [
       "<Figure size 640x480 with 1 Axes>"
      ]
     },
     "metadata": {},
     "output_type": "display_data"
    }
   ],
   "source": [
    "df['RegistrationYear'].hist(range = (1960,2019))\n",
    "plt.ylabel('Frequency')\n",
    "plt.title('Disitibution by registration year')\n",
    "plt.xlabel('year')\n",
    "plt.show()\n"
   ]
  },
  {
   "cell_type": "markdown",
   "metadata": {},
   "source": [
    "Let's filter the data by the period of car registration from 1920 to 2019."
   ]
  },
  {
   "cell_type": "code",
   "execution_count": 21,
   "metadata": {},
   "outputs": [
    {
     "data": {
      "text/plain": [
       "340"
      ]
     },
     "execution_count": 21,
     "metadata": {},
     "output_type": "execute_result"
    }
   ],
   "source": [
    "df['RegistrationYear'][df['RegistrationYear'] < 1960].count()"
   ]
  },
  {
   "cell_type": "code",
   "execution_count": 22,
   "metadata": {},
   "outputs": [
    {
     "data": {
      "text/html": [
       "<div>\n",
       "<style scoped>\n",
       "    .dataframe tbody tr th:only-of-type {\n",
       "        vertical-align: middle;\n",
       "    }\n",
       "\n",
       "    .dataframe tbody tr th {\n",
       "        vertical-align: top;\n",
       "    }\n",
       "\n",
       "    .dataframe thead th {\n",
       "        text-align: right;\n",
       "    }\n",
       "</style>\n",
       "<table border=\"1\" class=\"dataframe\">\n",
       "  <thead>\n",
       "    <tr style=\"text-align: right;\">\n",
       "      <th></th>\n",
       "      <th>DateCrawled</th>\n",
       "      <th>Price</th>\n",
       "      <th>VehicleType</th>\n",
       "      <th>RegistrationYear</th>\n",
       "      <th>Gearbox</th>\n",
       "      <th>Power</th>\n",
       "      <th>Model</th>\n",
       "      <th>Kilometer</th>\n",
       "      <th>RegistrationMonth</th>\n",
       "      <th>FuelType</th>\n",
       "      <th>Brand</th>\n",
       "      <th>NotRepaired</th>\n",
       "      <th>DateCreated</th>\n",
       "      <th>NumberOfPictures</th>\n",
       "      <th>PostalCode</th>\n",
       "      <th>LastSeen</th>\n",
       "    </tr>\n",
       "  </thead>\n",
       "  <tbody>\n",
       "    <tr>\n",
       "      <th>15</th>\n",
       "      <td>2016-03-11 21:39:15</td>\n",
       "      <td>450</td>\n",
       "      <td>small</td>\n",
       "      <td>1910</td>\n",
       "      <td>NaN</td>\n",
       "      <td>0</td>\n",
       "      <td>ka</td>\n",
       "      <td>5000</td>\n",
       "      <td>0</td>\n",
       "      <td>petrol</td>\n",
       "      <td>ford</td>\n",
       "      <td>NaN</td>\n",
       "      <td>2016-03-11 00:00:00</td>\n",
       "      <td>0</td>\n",
       "      <td>24148</td>\n",
       "      <td>2016-03-19 08:46:47</td>\n",
       "    </tr>\n",
       "    <tr>\n",
       "      <th>1928</th>\n",
       "      <td>2016-03-25 15:58:21</td>\n",
       "      <td>7000</td>\n",
       "      <td>suv</td>\n",
       "      <td>1945</td>\n",
       "      <td>manual</td>\n",
       "      <td>48</td>\n",
       "      <td>other</td>\n",
       "      <td>150000</td>\n",
       "      <td>2</td>\n",
       "      <td>petrol</td>\n",
       "      <td>volkswagen</td>\n",
       "      <td>no</td>\n",
       "      <td>2016-03-25 00:00:00</td>\n",
       "      <td>0</td>\n",
       "      <td>58135</td>\n",
       "      <td>2016-03-25 15:58:21</td>\n",
       "    </tr>\n",
       "    <tr>\n",
       "      <th>2273</th>\n",
       "      <td>2016-03-15 21:44:32</td>\n",
       "      <td>1800</td>\n",
       "      <td>convertible</td>\n",
       "      <td>1925</td>\n",
       "      <td>NaN</td>\n",
       "      <td>0</td>\n",
       "      <td>NaN</td>\n",
       "      <td>5000</td>\n",
       "      <td>1</td>\n",
       "      <td>NaN</td>\n",
       "      <td>sonstige_autos</td>\n",
       "      <td>no</td>\n",
       "      <td>2016-03-15 00:00:00</td>\n",
       "      <td>0</td>\n",
       "      <td>79288</td>\n",
       "      <td>2016-04-07 05:15:34</td>\n",
       "    </tr>\n",
       "    <tr>\n",
       "      <th>3333</th>\n",
       "      <td>2016-03-15 21:36:20</td>\n",
       "      <td>10500</td>\n",
       "      <td>sedan</td>\n",
       "      <td>1955</td>\n",
       "      <td>manual</td>\n",
       "      <td>30</td>\n",
       "      <td>other</td>\n",
       "      <td>60000</td>\n",
       "      <td>0</td>\n",
       "      <td>petrol</td>\n",
       "      <td>ford</td>\n",
       "      <td>NaN</td>\n",
       "      <td>2016-03-15 00:00:00</td>\n",
       "      <td>0</td>\n",
       "      <td>53498</td>\n",
       "      <td>2016-04-07 08:16:11</td>\n",
       "    </tr>\n",
       "    <tr>\n",
       "      <th>6977</th>\n",
       "      <td>2016-03-24 08:37:22</td>\n",
       "      <td>135</td>\n",
       "      <td>NaN</td>\n",
       "      <td>1910</td>\n",
       "      <td>NaN</td>\n",
       "      <td>0</td>\n",
       "      <td>NaN</td>\n",
       "      <td>5000</td>\n",
       "      <td>0</td>\n",
       "      <td>NaN</td>\n",
       "      <td>opel</td>\n",
       "      <td>NaN</td>\n",
       "      <td>2016-03-24 00:00:00</td>\n",
       "      <td>0</td>\n",
       "      <td>19374</td>\n",
       "      <td>2016-04-06 20:46:08</td>\n",
       "    </tr>\n",
       "    <tr>\n",
       "      <th>10183</th>\n",
       "      <td>2016-03-27 13:59:08</td>\n",
       "      <td>1250</td>\n",
       "      <td>NaN</td>\n",
       "      <td>1910</td>\n",
       "      <td>NaN</td>\n",
       "      <td>0</td>\n",
       "      <td>other</td>\n",
       "      <td>5000</td>\n",
       "      <td>0</td>\n",
       "      <td>NaN</td>\n",
       "      <td>audi</td>\n",
       "      <td>NaN</td>\n",
       "      <td>2016-03-27 00:00:00</td>\n",
       "      <td>0</td>\n",
       "      <td>18445</td>\n",
       "      <td>2016-04-07 10:45:31</td>\n",
       "    </tr>\n",
       "    <tr>\n",
       "      <th>12993</th>\n",
       "      <td>2016-03-07 14:38:00</td>\n",
       "      <td>11000</td>\n",
       "      <td>other</td>\n",
       "      <td>1955</td>\n",
       "      <td>manual</td>\n",
       "      <td>40</td>\n",
       "      <td>NaN</td>\n",
       "      <td>50000</td>\n",
       "      <td>1</td>\n",
       "      <td>petrol</td>\n",
       "      <td>sonstige_autos</td>\n",
       "      <td>no</td>\n",
       "      <td>2016-03-07 00:00:00</td>\n",
       "      <td>0</td>\n",
       "      <td>59556</td>\n",
       "      <td>2016-03-14 06:44:36</td>\n",
       "    </tr>\n",
       "    <tr>\n",
       "      <th>13177</th>\n",
       "      <td>2016-03-19 13:45:25</td>\n",
       "      <td>2300</td>\n",
       "      <td>sedan</td>\n",
       "      <td>1958</td>\n",
       "      <td>manual</td>\n",
       "      <td>45</td>\n",
       "      <td>NaN</td>\n",
       "      <td>80000</td>\n",
       "      <td>1</td>\n",
       "      <td>petrol</td>\n",
       "      <td>sonstige_autos</td>\n",
       "      <td>NaN</td>\n",
       "      <td>2016-03-19 00:00:00</td>\n",
       "      <td>0</td>\n",
       "      <td>9600</td>\n",
       "      <td>2016-03-30 05:47:21</td>\n",
       "    </tr>\n",
       "    <tr>\n",
       "      <th>14971</th>\n",
       "      <td>2016-03-30 11:57:50</td>\n",
       "      <td>1</td>\n",
       "      <td>sedan</td>\n",
       "      <td>1959</td>\n",
       "      <td>auto</td>\n",
       "      <td>325</td>\n",
       "      <td>NaN</td>\n",
       "      <td>10000</td>\n",
       "      <td>7</td>\n",
       "      <td>petrol</td>\n",
       "      <td>sonstige_autos</td>\n",
       "      <td>NaN</td>\n",
       "      <td>2016-03-30 00:00:00</td>\n",
       "      <td>0</td>\n",
       "      <td>45968</td>\n",
       "      <td>2016-04-01 06:16:37</td>\n",
       "    </tr>\n",
       "    <tr>\n",
       "      <th>15414</th>\n",
       "      <td>2016-03-30 23:38:13</td>\n",
       "      <td>18000</td>\n",
       "      <td>sedan</td>\n",
       "      <td>1956</td>\n",
       "      <td>manual</td>\n",
       "      <td>30</td>\n",
       "      <td>NaN</td>\n",
       "      <td>150000</td>\n",
       "      <td>0</td>\n",
       "      <td>petrol</td>\n",
       "      <td>volkswagen</td>\n",
       "      <td>NaN</td>\n",
       "      <td>2016-03-30 00:00:00</td>\n",
       "      <td>0</td>\n",
       "      <td>82205</td>\n",
       "      <td>2016-04-05 23:17:35</td>\n",
       "    </tr>\n",
       "    <tr>\n",
       "      <th>16062</th>\n",
       "      <td>2016-03-29 23:42:16</td>\n",
       "      <td>190</td>\n",
       "      <td>NaN</td>\n",
       "      <td>1000</td>\n",
       "      <td>NaN</td>\n",
       "      <td>0</td>\n",
       "      <td>mondeo</td>\n",
       "      <td>5000</td>\n",
       "      <td>0</td>\n",
       "      <td>NaN</td>\n",
       "      <td>ford</td>\n",
       "      <td>NaN</td>\n",
       "      <td>2016-03-29 00:00:00</td>\n",
       "      <td>0</td>\n",
       "      <td>47166</td>\n",
       "      <td>2016-04-06 10:44:58</td>\n",
       "    </tr>\n",
       "    <tr>\n",
       "      <th>16635</th>\n",
       "      <td>2016-03-09 10:54:11</td>\n",
       "      <td>9500</td>\n",
       "      <td>suv</td>\n",
       "      <td>1941</td>\n",
       "      <td>manual</td>\n",
       "      <td>57</td>\n",
       "      <td>NaN</td>\n",
       "      <td>40000</td>\n",
       "      <td>1</td>\n",
       "      <td>petrol</td>\n",
       "      <td>sonstige_autos</td>\n",
       "      <td>no</td>\n",
       "      <td>2016-03-09 00:00:00</td>\n",
       "      <td>0</td>\n",
       "      <td>59557</td>\n",
       "      <td>2016-03-12 21:16:29</td>\n",
       "    </tr>\n",
       "    <tr>\n",
       "      <th>18023</th>\n",
       "      <td>2016-03-24 08:57:13</td>\n",
       "      <td>1</td>\n",
       "      <td>NaN</td>\n",
       "      <td>1910</td>\n",
       "      <td>NaN</td>\n",
       "      <td>0</td>\n",
       "      <td>NaN</td>\n",
       "      <td>5000</td>\n",
       "      <td>0</td>\n",
       "      <td>NaN</td>\n",
       "      <td>volkswagen</td>\n",
       "      <td>NaN</td>\n",
       "      <td>2016-03-24 00:00:00</td>\n",
       "      <td>0</td>\n",
       "      <td>50829</td>\n",
       "      <td>2016-04-06 22:45:09</td>\n",
       "    </tr>\n",
       "    <tr>\n",
       "      <th>18224</th>\n",
       "      <td>2016-03-09 17:49:44</td>\n",
       "      <td>7999</td>\n",
       "      <td>NaN</td>\n",
       "      <td>1500</td>\n",
       "      <td>manual</td>\n",
       "      <td>224</td>\n",
       "      <td>impreza</td>\n",
       "      <td>5000</td>\n",
       "      <td>3</td>\n",
       "      <td>NaN</td>\n",
       "      <td>subaru</td>\n",
       "      <td>NaN</td>\n",
       "      <td>2016-03-09 00:00:00</td>\n",
       "      <td>0</td>\n",
       "      <td>53577</td>\n",
       "      <td>2016-03-15 05:15:17</td>\n",
       "    </tr>\n",
       "    <tr>\n",
       "      <th>22621</th>\n",
       "      <td>2016-03-23 11:37:57</td>\n",
       "      <td>14000</td>\n",
       "      <td>sedan</td>\n",
       "      <td>1929</td>\n",
       "      <td>manual</td>\n",
       "      <td>30</td>\n",
       "      <td>NaN</td>\n",
       "      <td>5000</td>\n",
       "      <td>7</td>\n",
       "      <td>petrol</td>\n",
       "      <td>sonstige_autos</td>\n",
       "      <td>NaN</td>\n",
       "      <td>2016-03-23 00:00:00</td>\n",
       "      <td>0</td>\n",
       "      <td>90475</td>\n",
       "      <td>2016-04-05 11:18:18</td>\n",
       "    </tr>\n",
       "    <tr>\n",
       "      <th>23500</th>\n",
       "      <td>2016-03-23 17:57:22</td>\n",
       "      <td>5600</td>\n",
       "      <td>small</td>\n",
       "      <td>1957</td>\n",
       "      <td>manual</td>\n",
       "      <td>37</td>\n",
       "      <td>NaN</td>\n",
       "      <td>90000</td>\n",
       "      <td>9</td>\n",
       "      <td>petrol</td>\n",
       "      <td>sonstige_autos</td>\n",
       "      <td>NaN</td>\n",
       "      <td>2016-03-23 00:00:00</td>\n",
       "      <td>0</td>\n",
       "      <td>68794</td>\n",
       "      <td>2016-04-05 22:18:03</td>\n",
       "    </tr>\n",
       "    <tr>\n",
       "      <th>23750</th>\n",
       "      <td>2016-03-16 19:58:34</td>\n",
       "      <td>3900</td>\n",
       "      <td>wagon</td>\n",
       "      <td>1910</td>\n",
       "      <td>manual</td>\n",
       "      <td>90</td>\n",
       "      <td>passat</td>\n",
       "      <td>150000</td>\n",
       "      <td>0</td>\n",
       "      <td>petrol</td>\n",
       "      <td>volkswagen</td>\n",
       "      <td>NaN</td>\n",
       "      <td>2016-03-16 00:00:00</td>\n",
       "      <td>0</td>\n",
       "      <td>88662</td>\n",
       "      <td>2016-04-07 05:45:53</td>\n",
       "    </tr>\n",
       "    <tr>\n",
       "      <th>24458</th>\n",
       "      <td>2016-03-29 19:50:03</td>\n",
       "      <td>50</td>\n",
       "      <td>small</td>\n",
       "      <td>1910</td>\n",
       "      <td>manual</td>\n",
       "      <td>0</td>\n",
       "      <td>NaN</td>\n",
       "      <td>5000</td>\n",
       "      <td>1</td>\n",
       "      <td>NaN</td>\n",
       "      <td>volkswagen</td>\n",
       "      <td>yes</td>\n",
       "      <td>2016-03-29 00:00:00</td>\n",
       "      <td>0</td>\n",
       "      <td>91487</td>\n",
       "      <td>2016-04-06 05:46:41</td>\n",
       "    </tr>\n",
       "    <tr>\n",
       "      <th>26216</th>\n",
       "      <td>2016-03-16 21:43:10</td>\n",
       "      <td>15000</td>\n",
       "      <td>small</td>\n",
       "      <td>1940</td>\n",
       "      <td>manual</td>\n",
       "      <td>24</td>\n",
       "      <td>NaN</td>\n",
       "      <td>5000</td>\n",
       "      <td>7</td>\n",
       "      <td>petrol</td>\n",
       "      <td>sonstige_autos</td>\n",
       "      <td>no</td>\n",
       "      <td>2016-03-16 00:00:00</td>\n",
       "      <td>0</td>\n",
       "      <td>4924</td>\n",
       "      <td>2016-04-07 08:46:27</td>\n",
       "    </tr>\n",
       "    <tr>\n",
       "      <th>27525</th>\n",
       "      <td>2016-03-12 20:54:39</td>\n",
       "      <td>13300</td>\n",
       "      <td>sedan</td>\n",
       "      <td>1949</td>\n",
       "      <td>NaN</td>\n",
       "      <td>99</td>\n",
       "      <td>other</td>\n",
       "      <td>60000</td>\n",
       "      <td>7</td>\n",
       "      <td>petrol</td>\n",
       "      <td>chrysler</td>\n",
       "      <td>NaN</td>\n",
       "      <td>2016-03-12 00:00:00</td>\n",
       "      <td>0</td>\n",
       "      <td>28279</td>\n",
       "      <td>2016-04-05 15:47:32</td>\n",
       "    </tr>\n",
       "    <tr>\n",
       "      <th>29516</th>\n",
       "      <td>2016-03-22 08:53:29</td>\n",
       "      <td>80</td>\n",
       "      <td>small</td>\n",
       "      <td>1910</td>\n",
       "      <td>NaN</td>\n",
       "      <td>0</td>\n",
       "      <td>punto</td>\n",
       "      <td>150000</td>\n",
       "      <td>0</td>\n",
       "      <td>NaN</td>\n",
       "      <td>fiat</td>\n",
       "      <td>NaN</td>\n",
       "      <td>2016-03-22 00:00:00</td>\n",
       "      <td>0</td>\n",
       "      <td>92637</td>\n",
       "      <td>2016-03-27 22:15:24</td>\n",
       "    </tr>\n",
       "    <tr>\n",
       "      <th>29933</th>\n",
       "      <td>2016-03-09 13:47:22</td>\n",
       "      <td>12900</td>\n",
       "      <td>sedan</td>\n",
       "      <td>1940</td>\n",
       "      <td>manual</td>\n",
       "      <td>0</td>\n",
       "      <td>NaN</td>\n",
       "      <td>150000</td>\n",
       "      <td>4</td>\n",
       "      <td>petrol</td>\n",
       "      <td>ford</td>\n",
       "      <td>NaN</td>\n",
       "      <td>2016-03-09 00:00:00</td>\n",
       "      <td>0</td>\n",
       "      <td>45657</td>\n",
       "      <td>2016-03-30 06:52:51</td>\n",
       "    </tr>\n",
       "    <tr>\n",
       "      <th>33638</th>\n",
       "      <td>2016-03-16 09:47:50</td>\n",
       "      <td>5400</td>\n",
       "      <td>small</td>\n",
       "      <td>1937</td>\n",
       "      <td>manual</td>\n",
       "      <td>0</td>\n",
       "      <td>other</td>\n",
       "      <td>20000</td>\n",
       "      <td>3</td>\n",
       "      <td>petrol</td>\n",
       "      <td>opel</td>\n",
       "      <td>no</td>\n",
       "      <td>2016-03-16 00:00:00</td>\n",
       "      <td>0</td>\n",
       "      <td>7907</td>\n",
       "      <td>2016-03-17 07:47:51</td>\n",
       "    </tr>\n",
       "    <tr>\n",
       "      <th>33968</th>\n",
       "      <td>2016-03-06 13:45:27</td>\n",
       "      <td>1850</td>\n",
       "      <td>wagon</td>\n",
       "      <td>1951</td>\n",
       "      <td>manual</td>\n",
       "      <td>0</td>\n",
       "      <td>other</td>\n",
       "      <td>100000</td>\n",
       "      <td>1</td>\n",
       "      <td>petrol</td>\n",
       "      <td>fiat</td>\n",
       "      <td>no</td>\n",
       "      <td>2016-03-06 00:00:00</td>\n",
       "      <td>0</td>\n",
       "      <td>1844</td>\n",
       "      <td>2016-04-06 05:45:36</td>\n",
       "    </tr>\n",
       "    <tr>\n",
       "      <th>34055</th>\n",
       "      <td>2016-03-25 00:55:47</td>\n",
       "      <td>2900</td>\n",
       "      <td>small</td>\n",
       "      <td>1937</td>\n",
       "      <td>manual</td>\n",
       "      <td>34</td>\n",
       "      <td>other</td>\n",
       "      <td>40000</td>\n",
       "      <td>7</td>\n",
       "      <td>petrol</td>\n",
       "      <td>ford</td>\n",
       "      <td>yes</td>\n",
       "      <td>2016-03-25 00:00:00</td>\n",
       "      <td>0</td>\n",
       "      <td>33378</td>\n",
       "      <td>2016-04-02 07:16:41</td>\n",
       "    </tr>\n",
       "    <tr>\n",
       "      <th>34332</th>\n",
       "      <td>2016-04-01 06:02:10</td>\n",
       "      <td>450</td>\n",
       "      <td>NaN</td>\n",
       "      <td>1800</td>\n",
       "      <td>NaN</td>\n",
       "      <td>1800</td>\n",
       "      <td>NaN</td>\n",
       "      <td>5000</td>\n",
       "      <td>2</td>\n",
       "      <td>NaN</td>\n",
       "      <td>mitsubishi</td>\n",
       "      <td>no</td>\n",
       "      <td>2016-04-01 00:00:00</td>\n",
       "      <td>0</td>\n",
       "      <td>63322</td>\n",
       "      <td>2016-04-01 09:42:30</td>\n",
       "    </tr>\n",
       "    <tr>\n",
       "      <th>34481</th>\n",
       "      <td>2016-03-08 19:50:03</td>\n",
       "      <td>3500</td>\n",
       "      <td>sedan</td>\n",
       "      <td>1959</td>\n",
       "      <td>NaN</td>\n",
       "      <td>50</td>\n",
       "      <td>other</td>\n",
       "      <td>5000</td>\n",
       "      <td>10</td>\n",
       "      <td>gasoline</td>\n",
       "      <td>mercedes_benz</td>\n",
       "      <td>yes</td>\n",
       "      <td>2016-03-08 00:00:00</td>\n",
       "      <td>0</td>\n",
       "      <td>76532</td>\n",
       "      <td>2016-03-29 08:18:02</td>\n",
       "    </tr>\n",
       "    <tr>\n",
       "      <th>34572</th>\n",
       "      <td>2016-03-14 21:57:40</td>\n",
       "      <td>16800</td>\n",
       "      <td>suv</td>\n",
       "      <td>1953</td>\n",
       "      <td>manual</td>\n",
       "      <td>68</td>\n",
       "      <td>other</td>\n",
       "      <td>20000</td>\n",
       "      <td>7</td>\n",
       "      <td>petrol</td>\n",
       "      <td>jeep</td>\n",
       "      <td>no</td>\n",
       "      <td>2016-03-14 00:00:00</td>\n",
       "      <td>0</td>\n",
       "      <td>67105</td>\n",
       "      <td>2016-04-06 14:46:50</td>\n",
       "    </tr>\n",
       "    <tr>\n",
       "      <th>35943</th>\n",
       "      <td>2016-03-19 10:57:31</td>\n",
       "      <td>200</td>\n",
       "      <td>other</td>\n",
       "      <td>1910</td>\n",
       "      <td>NaN</td>\n",
       "      <td>0</td>\n",
       "      <td>caddy</td>\n",
       "      <td>150000</td>\n",
       "      <td>0</td>\n",
       "      <td>gasoline</td>\n",
       "      <td>volkswagen</td>\n",
       "      <td>NaN</td>\n",
       "      <td>2016-03-19 00:00:00</td>\n",
       "      <td>0</td>\n",
       "      <td>35096</td>\n",
       "      <td>2016-03-20 18:10:33</td>\n",
       "    </tr>\n",
       "    <tr>\n",
       "      <th>37133</th>\n",
       "      <td>2016-03-12 18:47:36</td>\n",
       "      <td>7500</td>\n",
       "      <td>small</td>\n",
       "      <td>1954</td>\n",
       "      <td>manual</td>\n",
       "      <td>16</td>\n",
       "      <td>500</td>\n",
       "      <td>125000</td>\n",
       "      <td>7</td>\n",
       "      <td>petrol</td>\n",
       "      <td>fiat</td>\n",
       "      <td>no</td>\n",
       "      <td>2016-03-12 00:00:00</td>\n",
       "      <td>0</td>\n",
       "      <td>82327</td>\n",
       "      <td>2016-03-14 11:17:57</td>\n",
       "    </tr>\n",
       "    <tr>\n",
       "      <th>37572</th>\n",
       "      <td>2016-03-16 23:56:20</td>\n",
       "      <td>6000</td>\n",
       "      <td>coupe</td>\n",
       "      <td>1958</td>\n",
       "      <td>manual</td>\n",
       "      <td>50</td>\n",
       "      <td>NaN</td>\n",
       "      <td>100000</td>\n",
       "      <td>5</td>\n",
       "      <td>petrol</td>\n",
       "      <td>sonstige_autos</td>\n",
       "      <td>no</td>\n",
       "      <td>2016-03-16 00:00:00</td>\n",
       "      <td>0</td>\n",
       "      <td>97072</td>\n",
       "      <td>2016-03-17 07:44:13</td>\n",
       "    </tr>\n",
       "    <tr>\n",
       "      <th>37953</th>\n",
       "      <td>2016-03-07 22:51:16</td>\n",
       "      <td>9500</td>\n",
       "      <td>other</td>\n",
       "      <td>1937</td>\n",
       "      <td>NaN</td>\n",
       "      <td>0</td>\n",
       "      <td>other</td>\n",
       "      <td>20000</td>\n",
       "      <td>4</td>\n",
       "      <td>NaN</td>\n",
       "      <td>ford</td>\n",
       "      <td>NaN</td>\n",
       "      <td>2016-03-07 00:00:00</td>\n",
       "      <td>0</td>\n",
       "      <td>48599</td>\n",
       "      <td>2016-04-06 22:15:45</td>\n",
       "    </tr>\n",
       "    <tr>\n",
       "      <th>38875</th>\n",
       "      <td>2016-03-19 23:54:40</td>\n",
       "      <td>1234</td>\n",
       "      <td>NaN</td>\n",
       "      <td>1234</td>\n",
       "      <td>NaN</td>\n",
       "      <td>26</td>\n",
       "      <td>NaN</td>\n",
       "      <td>5000</td>\n",
       "      <td>1</td>\n",
       "      <td>NaN</td>\n",
       "      <td>trabant</td>\n",
       "      <td>NaN</td>\n",
       "      <td>2016-03-19 00:00:00</td>\n",
       "      <td>0</td>\n",
       "      <td>38518</td>\n",
       "      <td>2016-04-06 03:15:22</td>\n",
       "    </tr>\n",
       "    <tr>\n",
       "      <th>38974</th>\n",
       "      <td>2016-03-20 11:59:21</td>\n",
       "      <td>18500</td>\n",
       "      <td>sedan</td>\n",
       "      <td>1959</td>\n",
       "      <td>manual</td>\n",
       "      <td>30</td>\n",
       "      <td>kaefer</td>\n",
       "      <td>70000</td>\n",
       "      <td>11</td>\n",
       "      <td>petrol</td>\n",
       "      <td>volkswagen</td>\n",
       "      <td>no</td>\n",
       "      <td>2016-03-20 00:00:00</td>\n",
       "      <td>0</td>\n",
       "      <td>84034</td>\n",
       "      <td>2016-04-06 10:17:09</td>\n",
       "    </tr>\n",
       "    <tr>\n",
       "      <th>39823</th>\n",
       "      <td>2016-03-17 00:59:19</td>\n",
       "      <td>16800</td>\n",
       "      <td>coupe</td>\n",
       "      <td>1958</td>\n",
       "      <td>auto</td>\n",
       "      <td>275</td>\n",
       "      <td>other</td>\n",
       "      <td>150000</td>\n",
       "      <td>7</td>\n",
       "      <td>petrol</td>\n",
       "      <td>ford</td>\n",
       "      <td>no</td>\n",
       "      <td>2016-03-16 00:00:00</td>\n",
       "      <td>0</td>\n",
       "      <td>17268</td>\n",
       "      <td>2016-04-06 02:16:39</td>\n",
       "    </tr>\n",
       "    <tr>\n",
       "      <th>42748</th>\n",
       "      <td>2016-04-01 17:42:50</td>\n",
       "      <td>18999</td>\n",
       "      <td>suv</td>\n",
       "      <td>1956</td>\n",
       "      <td>manual</td>\n",
       "      <td>0</td>\n",
       "      <td>other</td>\n",
       "      <td>150000</td>\n",
       "      <td>4</td>\n",
       "      <td>petrol</td>\n",
       "      <td>chevrolet</td>\n",
       "      <td>no</td>\n",
       "      <td>2016-04-01 00:00:00</td>\n",
       "      <td>0</td>\n",
       "      <td>15746</td>\n",
       "      <td>2016-04-05 12:47:14</td>\n",
       "    </tr>\n",
       "    <tr>\n",
       "      <th>42756</th>\n",
       "      <td>2016-03-08 17:52:13</td>\n",
       "      <td>10500</td>\n",
       "      <td>sedan</td>\n",
       "      <td>1954</td>\n",
       "      <td>manual</td>\n",
       "      <td>23</td>\n",
       "      <td>other</td>\n",
       "      <td>50000</td>\n",
       "      <td>6</td>\n",
       "      <td>petrol</td>\n",
       "      <td>audi</td>\n",
       "      <td>no</td>\n",
       "      <td>2016-03-08 00:00:00</td>\n",
       "      <td>0</td>\n",
       "      <td>14612</td>\n",
       "      <td>2016-04-07 08:45:26</td>\n",
       "    </tr>\n",
       "    <tr>\n",
       "      <th>45833</th>\n",
       "      <td>2016-03-24 13:58:08</td>\n",
       "      <td>19000</td>\n",
       "      <td>sedan</td>\n",
       "      <td>1951</td>\n",
       "      <td>manual</td>\n",
       "      <td>0</td>\n",
       "      <td>NaN</td>\n",
       "      <td>80000</td>\n",
       "      <td>3</td>\n",
       "      <td>petrol</td>\n",
       "      <td>sonstige_autos</td>\n",
       "      <td>no</td>\n",
       "      <td>2016-03-24 00:00:00</td>\n",
       "      <td>0</td>\n",
       "      <td>84130</td>\n",
       "      <td>2016-04-07 06:17:42</td>\n",
       "    </tr>\n",
       "    <tr>\n",
       "      <th>47982</th>\n",
       "      <td>2016-04-02 15:53:27</td>\n",
       "      <td>9000</td>\n",
       "      <td>sedan</td>\n",
       "      <td>1953</td>\n",
       "      <td>NaN</td>\n",
       "      <td>57</td>\n",
       "      <td>other</td>\n",
       "      <td>150000</td>\n",
       "      <td>0</td>\n",
       "      <td>petrol</td>\n",
       "      <td>opel</td>\n",
       "      <td>NaN</td>\n",
       "      <td>2016-04-02 00:00:00</td>\n",
       "      <td>0</td>\n",
       "      <td>67125</td>\n",
       "      <td>2016-04-06 14:46:03</td>\n",
       "    </tr>\n",
       "    <tr>\n",
       "      <th>48958</th>\n",
       "      <td>2016-03-09 07:36:58</td>\n",
       "      <td>600</td>\n",
       "      <td>small</td>\n",
       "      <td>1910</td>\n",
       "      <td>manual</td>\n",
       "      <td>0</td>\n",
       "      <td>agila</td>\n",
       "      <td>5000</td>\n",
       "      <td>0</td>\n",
       "      <td>NaN</td>\n",
       "      <td>opel</td>\n",
       "      <td>yes</td>\n",
       "      <td>2016-03-09 00:00:00</td>\n",
       "      <td>0</td>\n",
       "      <td>61279</td>\n",
       "      <td>2016-04-06 05:46:18</td>\n",
       "    </tr>\n",
       "    <tr>\n",
       "      <th>50142</th>\n",
       "      <td>2016-03-26 12:40:12</td>\n",
       "      <td>13900</td>\n",
       "      <td>sedan</td>\n",
       "      <td>1959</td>\n",
       "      <td>manual</td>\n",
       "      <td>42</td>\n",
       "      <td>NaN</td>\n",
       "      <td>10000</td>\n",
       "      <td>5</td>\n",
       "      <td>petrol</td>\n",
       "      <td>sonstige_autos</td>\n",
       "      <td>no</td>\n",
       "      <td>2016-03-26 00:00:00</td>\n",
       "      <td>0</td>\n",
       "      <td>79238</td>\n",
       "      <td>2016-04-05 23:46:49</td>\n",
       "    </tr>\n",
       "    <tr>\n",
       "      <th>52323</th>\n",
       "      <td>2016-03-31 06:36:59</td>\n",
       "      <td>500</td>\n",
       "      <td>small</td>\n",
       "      <td>1945</td>\n",
       "      <td>manual</td>\n",
       "      <td>1000</td>\n",
       "      <td>astra</td>\n",
       "      <td>100000</td>\n",
       "      <td>5</td>\n",
       "      <td>NaN</td>\n",
       "      <td>opel</td>\n",
       "      <td>yes</td>\n",
       "      <td>2016-03-31 00:00:00</td>\n",
       "      <td>0</td>\n",
       "      <td>1723</td>\n",
       "      <td>2016-04-06 00:46:29</td>\n",
       "    </tr>\n",
       "    <tr>\n",
       "      <th>53577</th>\n",
       "      <td>2016-03-20 11:44:28</td>\n",
       "      <td>330</td>\n",
       "      <td>NaN</td>\n",
       "      <td>1000</td>\n",
       "      <td>NaN</td>\n",
       "      <td>0</td>\n",
       "      <td>polo</td>\n",
       "      <td>5000</td>\n",
       "      <td>0</td>\n",
       "      <td>NaN</td>\n",
       "      <td>volkswagen</td>\n",
       "      <td>NaN</td>\n",
       "      <td>2016-03-20 00:00:00</td>\n",
       "      <td>0</td>\n",
       "      <td>45259</td>\n",
       "      <td>2016-04-04 08:17:15</td>\n",
       "    </tr>\n",
       "    <tr>\n",
       "      <th>54463</th>\n",
       "      <td>2016-03-14 23:36:46</td>\n",
       "      <td>799</td>\n",
       "      <td>convertible</td>\n",
       "      <td>1955</td>\n",
       "      <td>NaN</td>\n",
       "      <td>0</td>\n",
       "      <td>NaN</td>\n",
       "      <td>100000</td>\n",
       "      <td>1</td>\n",
       "      <td>NaN</td>\n",
       "      <td>sonstige_autos</td>\n",
       "      <td>no</td>\n",
       "      <td>2016-03-14 00:00:00</td>\n",
       "      <td>0</td>\n",
       "      <td>12355</td>\n",
       "      <td>2016-03-15 08:42:25</td>\n",
       "    </tr>\n",
       "    <tr>\n",
       "      <th>55206</th>\n",
       "      <td>2016-03-19 15:40:01</td>\n",
       "      <td>6690</td>\n",
       "      <td>other</td>\n",
       "      <td>1959</td>\n",
       "      <td>manual</td>\n",
       "      <td>12</td>\n",
       "      <td>other</td>\n",
       "      <td>50000</td>\n",
       "      <td>10</td>\n",
       "      <td>petrol</td>\n",
       "      <td>bmw</td>\n",
       "      <td>no</td>\n",
       "      <td>2016-03-19 00:00:00</td>\n",
       "      <td>0</td>\n",
       "      <td>72379</td>\n",
       "      <td>2016-03-19 15:40:01</td>\n",
       "    </tr>\n",
       "    <tr>\n",
       "      <th>55605</th>\n",
       "      <td>2016-03-10 19:50:17</td>\n",
       "      <td>500</td>\n",
       "      <td>NaN</td>\n",
       "      <td>1000</td>\n",
       "      <td>NaN</td>\n",
       "      <td>0</td>\n",
       "      <td>NaN</td>\n",
       "      <td>5000</td>\n",
       "      <td>0</td>\n",
       "      <td>NaN</td>\n",
       "      <td>citroen</td>\n",
       "      <td>yes</td>\n",
       "      <td>2016-03-10 00:00:00</td>\n",
       "      <td>0</td>\n",
       "      <td>24811</td>\n",
       "      <td>2016-04-06 03:45:53</td>\n",
       "    </tr>\n",
       "    <tr>\n",
       "      <th>56241</th>\n",
       "      <td>2016-03-30 18:54:27</td>\n",
       "      <td>950</td>\n",
       "      <td>NaN</td>\n",
       "      <td>1400</td>\n",
       "      <td>manual</td>\n",
       "      <td>1400</td>\n",
       "      <td>golf</td>\n",
       "      <td>125000</td>\n",
       "      <td>4</td>\n",
       "      <td>petrol</td>\n",
       "      <td>volkswagen</td>\n",
       "      <td>NaN</td>\n",
       "      <td>2016-03-30 00:00:00</td>\n",
       "      <td>0</td>\n",
       "      <td>50389</td>\n",
       "      <td>2016-04-03 09:45:19</td>\n",
       "    </tr>\n",
       "    <tr>\n",
       "      <th>57063</th>\n",
       "      <td>2016-03-30 07:36:23</td>\n",
       "      <td>1000</td>\n",
       "      <td>NaN</td>\n",
       "      <td>1910</td>\n",
       "      <td>NaN</td>\n",
       "      <td>0</td>\n",
       "      <td>NaN</td>\n",
       "      <td>150000</td>\n",
       "      <td>0</td>\n",
       "      <td>NaN</td>\n",
       "      <td>sonstige_autos</td>\n",
       "      <td>NaN</td>\n",
       "      <td>2016-03-30 00:00:00</td>\n",
       "      <td>0</td>\n",
       "      <td>63303</td>\n",
       "      <td>2016-04-06 16:45:19</td>\n",
       "    </tr>\n",
       "    <tr>\n",
       "      <th>58883</th>\n",
       "      <td>2016-03-15 21:57:27</td>\n",
       "      <td>1</td>\n",
       "      <td>NaN</td>\n",
       "      <td>1910</td>\n",
       "      <td>NaN</td>\n",
       "      <td>0</td>\n",
       "      <td>3er</td>\n",
       "      <td>150000</td>\n",
       "      <td>0</td>\n",
       "      <td>NaN</td>\n",
       "      <td>bmw</td>\n",
       "      <td>NaN</td>\n",
       "      <td>2016-03-15 00:00:00</td>\n",
       "      <td>0</td>\n",
       "      <td>74074</td>\n",
       "      <td>2016-04-07 07:17:28</td>\n",
       "    </tr>\n",
       "    <tr>\n",
       "      <th>60017</th>\n",
       "      <td>2016-03-10 12:38:01</td>\n",
       "      <td>80</td>\n",
       "      <td>NaN</td>\n",
       "      <td>1000</td>\n",
       "      <td>NaN</td>\n",
       "      <td>0</td>\n",
       "      <td>NaN</td>\n",
       "      <td>5000</td>\n",
       "      <td>0</td>\n",
       "      <td>NaN</td>\n",
       "      <td>volkswagen</td>\n",
       "      <td>NaN</td>\n",
       "      <td>2016-03-10 00:00:00</td>\n",
       "      <td>0</td>\n",
       "      <td>93107</td>\n",
       "      <td>2016-04-07 04:45:57</td>\n",
       "    </tr>\n",
       "  </tbody>\n",
       "</table>\n",
       "</div>"
      ],
      "text/plain": [
       "               DateCrawled  Price  VehicleType  RegistrationYear Gearbox  \\\n",
       "15     2016-03-11 21:39:15    450        small              1910     NaN   \n",
       "1928   2016-03-25 15:58:21   7000          suv              1945  manual   \n",
       "2273   2016-03-15 21:44:32   1800  convertible              1925     NaN   \n",
       "3333   2016-03-15 21:36:20  10500        sedan              1955  manual   \n",
       "6977   2016-03-24 08:37:22    135          NaN              1910     NaN   \n",
       "10183  2016-03-27 13:59:08   1250          NaN              1910     NaN   \n",
       "12993  2016-03-07 14:38:00  11000        other              1955  manual   \n",
       "13177  2016-03-19 13:45:25   2300        sedan              1958  manual   \n",
       "14971  2016-03-30 11:57:50      1        sedan              1959    auto   \n",
       "15414  2016-03-30 23:38:13  18000        sedan              1956  manual   \n",
       "16062  2016-03-29 23:42:16    190          NaN              1000     NaN   \n",
       "16635  2016-03-09 10:54:11   9500          suv              1941  manual   \n",
       "18023  2016-03-24 08:57:13      1          NaN              1910     NaN   \n",
       "18224  2016-03-09 17:49:44   7999          NaN              1500  manual   \n",
       "22621  2016-03-23 11:37:57  14000        sedan              1929  manual   \n",
       "23500  2016-03-23 17:57:22   5600        small              1957  manual   \n",
       "23750  2016-03-16 19:58:34   3900        wagon              1910  manual   \n",
       "24458  2016-03-29 19:50:03     50        small              1910  manual   \n",
       "26216  2016-03-16 21:43:10  15000        small              1940  manual   \n",
       "27525  2016-03-12 20:54:39  13300        sedan              1949     NaN   \n",
       "29516  2016-03-22 08:53:29     80        small              1910     NaN   \n",
       "29933  2016-03-09 13:47:22  12900        sedan              1940  manual   \n",
       "33638  2016-03-16 09:47:50   5400        small              1937  manual   \n",
       "33968  2016-03-06 13:45:27   1850        wagon              1951  manual   \n",
       "34055  2016-03-25 00:55:47   2900        small              1937  manual   \n",
       "34332  2016-04-01 06:02:10    450          NaN              1800     NaN   \n",
       "34481  2016-03-08 19:50:03   3500        sedan              1959     NaN   \n",
       "34572  2016-03-14 21:57:40  16800          suv              1953  manual   \n",
       "35943  2016-03-19 10:57:31    200        other              1910     NaN   \n",
       "37133  2016-03-12 18:47:36   7500        small              1954  manual   \n",
       "37572  2016-03-16 23:56:20   6000        coupe              1958  manual   \n",
       "37953  2016-03-07 22:51:16   9500        other              1937     NaN   \n",
       "38875  2016-03-19 23:54:40   1234          NaN              1234     NaN   \n",
       "38974  2016-03-20 11:59:21  18500        sedan              1959  manual   \n",
       "39823  2016-03-17 00:59:19  16800        coupe              1958    auto   \n",
       "42748  2016-04-01 17:42:50  18999          suv              1956  manual   \n",
       "42756  2016-03-08 17:52:13  10500        sedan              1954  manual   \n",
       "45833  2016-03-24 13:58:08  19000        sedan              1951  manual   \n",
       "47982  2016-04-02 15:53:27   9000        sedan              1953     NaN   \n",
       "48958  2016-03-09 07:36:58    600        small              1910  manual   \n",
       "50142  2016-03-26 12:40:12  13900        sedan              1959  manual   \n",
       "52323  2016-03-31 06:36:59    500        small              1945  manual   \n",
       "53577  2016-03-20 11:44:28    330          NaN              1000     NaN   \n",
       "54463  2016-03-14 23:36:46    799  convertible              1955     NaN   \n",
       "55206  2016-03-19 15:40:01   6690        other              1959  manual   \n",
       "55605  2016-03-10 19:50:17    500          NaN              1000     NaN   \n",
       "56241  2016-03-30 18:54:27    950          NaN              1400  manual   \n",
       "57063  2016-03-30 07:36:23   1000          NaN              1910     NaN   \n",
       "58883  2016-03-15 21:57:27      1          NaN              1910     NaN   \n",
       "60017  2016-03-10 12:38:01     80          NaN              1000     NaN   \n",
       "\n",
       "       Power    Model  Kilometer  RegistrationMonth  FuelType           Brand  \\\n",
       "15         0       ka       5000                  0    petrol            ford   \n",
       "1928      48    other     150000                  2    petrol      volkswagen   \n",
       "2273       0      NaN       5000                  1       NaN  sonstige_autos   \n",
       "3333      30    other      60000                  0    petrol            ford   \n",
       "6977       0      NaN       5000                  0       NaN            opel   \n",
       "10183      0    other       5000                  0       NaN            audi   \n",
       "12993     40      NaN      50000                  1    petrol  sonstige_autos   \n",
       "13177     45      NaN      80000                  1    petrol  sonstige_autos   \n",
       "14971    325      NaN      10000                  7    petrol  sonstige_autos   \n",
       "15414     30      NaN     150000                  0    petrol      volkswagen   \n",
       "16062      0   mondeo       5000                  0       NaN            ford   \n",
       "16635     57      NaN      40000                  1    petrol  sonstige_autos   \n",
       "18023      0      NaN       5000                  0       NaN      volkswagen   \n",
       "18224    224  impreza       5000                  3       NaN          subaru   \n",
       "22621     30      NaN       5000                  7    petrol  sonstige_autos   \n",
       "23500     37      NaN      90000                  9    petrol  sonstige_autos   \n",
       "23750     90   passat     150000                  0    petrol      volkswagen   \n",
       "24458      0      NaN       5000                  1       NaN      volkswagen   \n",
       "26216     24      NaN       5000                  7    petrol  sonstige_autos   \n",
       "27525     99    other      60000                  7    petrol        chrysler   \n",
       "29516      0    punto     150000                  0       NaN            fiat   \n",
       "29933      0      NaN     150000                  4    petrol            ford   \n",
       "33638      0    other      20000                  3    petrol            opel   \n",
       "33968      0    other     100000                  1    petrol            fiat   \n",
       "34055     34    other      40000                  7    petrol            ford   \n",
       "34332   1800      NaN       5000                  2       NaN      mitsubishi   \n",
       "34481     50    other       5000                 10  gasoline   mercedes_benz   \n",
       "34572     68    other      20000                  7    petrol            jeep   \n",
       "35943      0    caddy     150000                  0  gasoline      volkswagen   \n",
       "37133     16      500     125000                  7    petrol            fiat   \n",
       "37572     50      NaN     100000                  5    petrol  sonstige_autos   \n",
       "37953      0    other      20000                  4       NaN            ford   \n",
       "38875     26      NaN       5000                  1       NaN         trabant   \n",
       "38974     30   kaefer      70000                 11    petrol      volkswagen   \n",
       "39823    275    other     150000                  7    petrol            ford   \n",
       "42748      0    other     150000                  4    petrol       chevrolet   \n",
       "42756     23    other      50000                  6    petrol            audi   \n",
       "45833      0      NaN      80000                  3    petrol  sonstige_autos   \n",
       "47982     57    other     150000                  0    petrol            opel   \n",
       "48958      0    agila       5000                  0       NaN            opel   \n",
       "50142     42      NaN      10000                  5    petrol  sonstige_autos   \n",
       "52323   1000    astra     100000                  5       NaN            opel   \n",
       "53577      0     polo       5000                  0       NaN      volkswagen   \n",
       "54463      0      NaN     100000                  1       NaN  sonstige_autos   \n",
       "55206     12    other      50000                 10    petrol             bmw   \n",
       "55605      0      NaN       5000                  0       NaN         citroen   \n",
       "56241   1400     golf     125000                  4    petrol      volkswagen   \n",
       "57063      0      NaN     150000                  0       NaN  sonstige_autos   \n",
       "58883      0      3er     150000                  0       NaN             bmw   \n",
       "60017      0      NaN       5000                  0       NaN      volkswagen   \n",
       "\n",
       "      NotRepaired          DateCreated  NumberOfPictures  PostalCode  \\\n",
       "15            NaN  2016-03-11 00:00:00                 0       24148   \n",
       "1928           no  2016-03-25 00:00:00                 0       58135   \n",
       "2273           no  2016-03-15 00:00:00                 0       79288   \n",
       "3333          NaN  2016-03-15 00:00:00                 0       53498   \n",
       "6977          NaN  2016-03-24 00:00:00                 0       19374   \n",
       "10183         NaN  2016-03-27 00:00:00                 0       18445   \n",
       "12993          no  2016-03-07 00:00:00                 0       59556   \n",
       "13177         NaN  2016-03-19 00:00:00                 0        9600   \n",
       "14971         NaN  2016-03-30 00:00:00                 0       45968   \n",
       "15414         NaN  2016-03-30 00:00:00                 0       82205   \n",
       "16062         NaN  2016-03-29 00:00:00                 0       47166   \n",
       "16635          no  2016-03-09 00:00:00                 0       59557   \n",
       "18023         NaN  2016-03-24 00:00:00                 0       50829   \n",
       "18224         NaN  2016-03-09 00:00:00                 0       53577   \n",
       "22621         NaN  2016-03-23 00:00:00                 0       90475   \n",
       "23500         NaN  2016-03-23 00:00:00                 0       68794   \n",
       "23750         NaN  2016-03-16 00:00:00                 0       88662   \n",
       "24458         yes  2016-03-29 00:00:00                 0       91487   \n",
       "26216          no  2016-03-16 00:00:00                 0        4924   \n",
       "27525         NaN  2016-03-12 00:00:00                 0       28279   \n",
       "29516         NaN  2016-03-22 00:00:00                 0       92637   \n",
       "29933         NaN  2016-03-09 00:00:00                 0       45657   \n",
       "33638          no  2016-03-16 00:00:00                 0        7907   \n",
       "33968          no  2016-03-06 00:00:00                 0        1844   \n",
       "34055         yes  2016-03-25 00:00:00                 0       33378   \n",
       "34332          no  2016-04-01 00:00:00                 0       63322   \n",
       "34481         yes  2016-03-08 00:00:00                 0       76532   \n",
       "34572          no  2016-03-14 00:00:00                 0       67105   \n",
       "35943         NaN  2016-03-19 00:00:00                 0       35096   \n",
       "37133          no  2016-03-12 00:00:00                 0       82327   \n",
       "37572          no  2016-03-16 00:00:00                 0       97072   \n",
       "37953         NaN  2016-03-07 00:00:00                 0       48599   \n",
       "38875         NaN  2016-03-19 00:00:00                 0       38518   \n",
       "38974          no  2016-03-20 00:00:00                 0       84034   \n",
       "39823          no  2016-03-16 00:00:00                 0       17268   \n",
       "42748          no  2016-04-01 00:00:00                 0       15746   \n",
       "42756          no  2016-03-08 00:00:00                 0       14612   \n",
       "45833          no  2016-03-24 00:00:00                 0       84130   \n",
       "47982         NaN  2016-04-02 00:00:00                 0       67125   \n",
       "48958         yes  2016-03-09 00:00:00                 0       61279   \n",
       "50142          no  2016-03-26 00:00:00                 0       79238   \n",
       "52323         yes  2016-03-31 00:00:00                 0        1723   \n",
       "53577         NaN  2016-03-20 00:00:00                 0       45259   \n",
       "54463          no  2016-03-14 00:00:00                 0       12355   \n",
       "55206          no  2016-03-19 00:00:00                 0       72379   \n",
       "55605         yes  2016-03-10 00:00:00                 0       24811   \n",
       "56241         NaN  2016-03-30 00:00:00                 0       50389   \n",
       "57063         NaN  2016-03-30 00:00:00                 0       63303   \n",
       "58883         NaN  2016-03-15 00:00:00                 0       74074   \n",
       "60017         NaN  2016-03-10 00:00:00                 0       93107   \n",
       "\n",
       "                  LastSeen  \n",
       "15     2016-03-19 08:46:47  \n",
       "1928   2016-03-25 15:58:21  \n",
       "2273   2016-04-07 05:15:34  \n",
       "3333   2016-04-07 08:16:11  \n",
       "6977   2016-04-06 20:46:08  \n",
       "10183  2016-04-07 10:45:31  \n",
       "12993  2016-03-14 06:44:36  \n",
       "13177  2016-03-30 05:47:21  \n",
       "14971  2016-04-01 06:16:37  \n",
       "15414  2016-04-05 23:17:35  \n",
       "16062  2016-04-06 10:44:58  \n",
       "16635  2016-03-12 21:16:29  \n",
       "18023  2016-04-06 22:45:09  \n",
       "18224  2016-03-15 05:15:17  \n",
       "22621  2016-04-05 11:18:18  \n",
       "23500  2016-04-05 22:18:03  \n",
       "23750  2016-04-07 05:45:53  \n",
       "24458  2016-04-06 05:46:41  \n",
       "26216  2016-04-07 08:46:27  \n",
       "27525  2016-04-05 15:47:32  \n",
       "29516  2016-03-27 22:15:24  \n",
       "29933  2016-03-30 06:52:51  \n",
       "33638  2016-03-17 07:47:51  \n",
       "33968  2016-04-06 05:45:36  \n",
       "34055  2016-04-02 07:16:41  \n",
       "34332  2016-04-01 09:42:30  \n",
       "34481  2016-03-29 08:18:02  \n",
       "34572  2016-04-06 14:46:50  \n",
       "35943  2016-03-20 18:10:33  \n",
       "37133  2016-03-14 11:17:57  \n",
       "37572  2016-03-17 07:44:13  \n",
       "37953  2016-04-06 22:15:45  \n",
       "38875  2016-04-06 03:15:22  \n",
       "38974  2016-04-06 10:17:09  \n",
       "39823  2016-04-06 02:16:39  \n",
       "42748  2016-04-05 12:47:14  \n",
       "42756  2016-04-07 08:45:26  \n",
       "45833  2016-04-07 06:17:42  \n",
       "47982  2016-04-06 14:46:03  \n",
       "48958  2016-04-06 05:46:18  \n",
       "50142  2016-04-05 23:46:49  \n",
       "52323  2016-04-06 00:46:29  \n",
       "53577  2016-04-04 08:17:15  \n",
       "54463  2016-03-15 08:42:25  \n",
       "55206  2016-03-19 15:40:01  \n",
       "55605  2016-04-06 03:45:53  \n",
       "56241  2016-04-03 09:45:19  \n",
       "57063  2016-04-06 16:45:19  \n",
       "58883  2016-04-07 07:17:28  \n",
       "60017  2016-04-07 04:45:57  "
      ]
     },
     "execution_count": 22,
     "metadata": {},
     "output_type": "execute_result"
    }
   ],
   "source": [
    "df[df['RegistrationYear'] < 1960].head(50)"
   ]
  },
  {
   "cell_type": "code",
   "execution_count": 23,
   "metadata": {},
   "outputs": [
    {
     "data": {
      "text/plain": [
       "86"
      ]
     },
     "execution_count": 23,
     "metadata": {},
     "output_type": "execute_result"
    }
   ],
   "source": [
    "df['RegistrationYear'][df['RegistrationYear'] > 2019].count()"
   ]
  },
  {
   "cell_type": "code",
   "execution_count": 24,
   "metadata": {},
   "outputs": [
    {
     "data": {
      "text/html": [
       "<div>\n",
       "<style scoped>\n",
       "    .dataframe tbody tr th:only-of-type {\n",
       "        vertical-align: middle;\n",
       "    }\n",
       "\n",
       "    .dataframe tbody tr th {\n",
       "        vertical-align: top;\n",
       "    }\n",
       "\n",
       "    .dataframe thead th {\n",
       "        text-align: right;\n",
       "    }\n",
       "</style>\n",
       "<table border=\"1\" class=\"dataframe\">\n",
       "  <thead>\n",
       "    <tr style=\"text-align: right;\">\n",
       "      <th></th>\n",
       "      <th>DateCrawled</th>\n",
       "      <th>Price</th>\n",
       "      <th>VehicleType</th>\n",
       "      <th>RegistrationYear</th>\n",
       "      <th>Gearbox</th>\n",
       "      <th>Power</th>\n",
       "      <th>Model</th>\n",
       "      <th>Kilometer</th>\n",
       "      <th>RegistrationMonth</th>\n",
       "      <th>FuelType</th>\n",
       "      <th>Brand</th>\n",
       "      <th>NotRepaired</th>\n",
       "      <th>DateCreated</th>\n",
       "      <th>NumberOfPictures</th>\n",
       "      <th>PostalCode</th>\n",
       "      <th>LastSeen</th>\n",
       "    </tr>\n",
       "  </thead>\n",
       "  <tbody>\n",
       "    <tr>\n",
       "      <th>12946</th>\n",
       "      <td>2016-03-29 18:39:40</td>\n",
       "      <td>49</td>\n",
       "      <td>NaN</td>\n",
       "      <td>5000</td>\n",
       "      <td>NaN</td>\n",
       "      <td>0</td>\n",
       "      <td>golf</td>\n",
       "      <td>5000</td>\n",
       "      <td>12</td>\n",
       "      <td>NaN</td>\n",
       "      <td>volkswagen</td>\n",
       "      <td>NaN</td>\n",
       "      <td>2016-03-29 00:00:00</td>\n",
       "      <td>0</td>\n",
       "      <td>74523</td>\n",
       "      <td>2016-04-06 04:16:14</td>\n",
       "    </tr>\n",
       "    <tr>\n",
       "      <th>15870</th>\n",
       "      <td>2016-04-02 11:55:48</td>\n",
       "      <td>1700</td>\n",
       "      <td>NaN</td>\n",
       "      <td>3200</td>\n",
       "      <td>NaN</td>\n",
       "      <td>0</td>\n",
       "      <td>NaN</td>\n",
       "      <td>5000</td>\n",
       "      <td>0</td>\n",
       "      <td>NaN</td>\n",
       "      <td>sonstige_autos</td>\n",
       "      <td>NaN</td>\n",
       "      <td>2016-04-02 00:00:00</td>\n",
       "      <td>0</td>\n",
       "      <td>33649</td>\n",
       "      <td>2016-04-06 09:46:13</td>\n",
       "    </tr>\n",
       "    <tr>\n",
       "      <th>17271</th>\n",
       "      <td>2016-03-23 16:43:29</td>\n",
       "      <td>700</td>\n",
       "      <td>NaN</td>\n",
       "      <td>9999</td>\n",
       "      <td>NaN</td>\n",
       "      <td>0</td>\n",
       "      <td>other</td>\n",
       "      <td>10000</td>\n",
       "      <td>0</td>\n",
       "      <td>NaN</td>\n",
       "      <td>opel</td>\n",
       "      <td>NaN</td>\n",
       "      <td>2016-03-23 00:00:00</td>\n",
       "      <td>0</td>\n",
       "      <td>21769</td>\n",
       "      <td>2016-04-05 20:16:15</td>\n",
       "    </tr>\n",
       "    <tr>\n",
       "      <th>17346</th>\n",
       "      <td>2016-03-06 16:06:20</td>\n",
       "      <td>6500</td>\n",
       "      <td>NaN</td>\n",
       "      <td>8888</td>\n",
       "      <td>NaN</td>\n",
       "      <td>0</td>\n",
       "      <td>NaN</td>\n",
       "      <td>10000</td>\n",
       "      <td>0</td>\n",
       "      <td>NaN</td>\n",
       "      <td>sonstige_autos</td>\n",
       "      <td>NaN</td>\n",
       "      <td>2016-03-06 00:00:00</td>\n",
       "      <td>0</td>\n",
       "      <td>55262</td>\n",
       "      <td>2016-03-30 20:46:55</td>\n",
       "    </tr>\n",
       "    <tr>\n",
       "      <th>18259</th>\n",
       "      <td>2016-03-16 20:37:54</td>\n",
       "      <td>300</td>\n",
       "      <td>NaN</td>\n",
       "      <td>2200</td>\n",
       "      <td>NaN</td>\n",
       "      <td>0</td>\n",
       "      <td>twingo</td>\n",
       "      <td>5000</td>\n",
       "      <td>12</td>\n",
       "      <td>NaN</td>\n",
       "      <td>renault</td>\n",
       "      <td>NaN</td>\n",
       "      <td>2016-03-16 00:00:00</td>\n",
       "      <td>0</td>\n",
       "      <td>45307</td>\n",
       "      <td>2016-04-07 06:45:32</td>\n",
       "    </tr>\n",
       "  </tbody>\n",
       "</table>\n",
       "</div>"
      ],
      "text/plain": [
       "               DateCrawled  Price VehicleType  RegistrationYear Gearbox  \\\n",
       "12946  2016-03-29 18:39:40     49         NaN              5000     NaN   \n",
       "15870  2016-04-02 11:55:48   1700         NaN              3200     NaN   \n",
       "17271  2016-03-23 16:43:29    700         NaN              9999     NaN   \n",
       "17346  2016-03-06 16:06:20   6500         NaN              8888     NaN   \n",
       "18259  2016-03-16 20:37:54    300         NaN              2200     NaN   \n",
       "\n",
       "       Power   Model  Kilometer  RegistrationMonth FuelType           Brand  \\\n",
       "12946      0    golf       5000                 12      NaN      volkswagen   \n",
       "15870      0     NaN       5000                  0      NaN  sonstige_autos   \n",
       "17271      0   other      10000                  0      NaN            opel   \n",
       "17346      0     NaN      10000                  0      NaN  sonstige_autos   \n",
       "18259      0  twingo       5000                 12      NaN         renault   \n",
       "\n",
       "      NotRepaired          DateCreated  NumberOfPictures  PostalCode  \\\n",
       "12946         NaN  2016-03-29 00:00:00                 0       74523   \n",
       "15870         NaN  2016-04-02 00:00:00                 0       33649   \n",
       "17271         NaN  2016-03-23 00:00:00                 0       21769   \n",
       "17346         NaN  2016-03-06 00:00:00                 0       55262   \n",
       "18259         NaN  2016-03-16 00:00:00                 0       45307   \n",
       "\n",
       "                  LastSeen  \n",
       "12946  2016-04-06 04:16:14  \n",
       "15870  2016-04-06 09:46:13  \n",
       "17271  2016-04-05 20:16:15  \n",
       "17346  2016-03-30 20:46:55  \n",
       "18259  2016-04-07 06:45:32  "
      ]
     },
     "execution_count": 24,
     "metadata": {},
     "output_type": "execute_result"
    }
   ],
   "source": [
    "df[df['RegistrationYear'] > 2019].head()"
   ]
  },
  {
   "cell_type": "code",
   "execution_count": 25,
   "metadata": {},
   "outputs": [
    {
     "data": {
      "text/plain": [
       "DateCrawled          object\n",
       "Price                 int64\n",
       "VehicleType          object\n",
       "RegistrationYear      int64\n",
       "Gearbox              object\n",
       "Power                 int64\n",
       "Model                object\n",
       "Kilometer             int64\n",
       "RegistrationMonth     int64\n",
       "FuelType             object\n",
       "Brand                object\n",
       "NotRepaired          object\n",
       "DateCreated          object\n",
       "NumberOfPictures      int64\n",
       "PostalCode            int64\n",
       "LastSeen             object\n",
       "dtype: object"
      ]
     },
     "execution_count": 25,
     "metadata": {},
     "output_type": "execute_result"
    }
   ],
   "source": [
    "df.dtypes"
   ]
  },
  {
   "cell_type": "code",
   "execution_count": 26,
   "metadata": {},
   "outputs": [
    {
     "data": {
      "text/plain": [
       "426"
      ]
     },
     "execution_count": 26,
     "metadata": {},
     "output_type": "execute_result"
    }
   ],
   "source": [
    "length2 - len(df[(df['RegistrationYear'] >= 1960) & (df['RegistrationYear'] <= 2019)])\n",
    "\n"
   ]
  },
  {
   "cell_type": "markdown",
   "metadata": {},
   "source": [
    "Exclude from the sample 426 lines that do not match the parameters"
   ]
  },
  {
   "cell_type": "code",
   "execution_count": 27,
   "metadata": {},
   "outputs": [],
   "source": [
    "df = df[(df['RegistrationYear'] >= 1960) & (df['RegistrationYear'] <= 2019)].copy()"
   ]
  },
  {
   "cell_type": "code",
   "execution_count": 28,
   "metadata": {},
   "outputs": [],
   "source": [
    "length3 = len(df)"
   ]
  },
  {
   "cell_type": "code",
   "execution_count": 29,
   "metadata": {},
   "outputs": [
    {
     "data": {
      "image/png": "[encoded data removed]",
      "text/plain": [
       "<Figure size 640x480 with 1 Axes>"
      ]
     },
     "metadata": {},
     "output_type": "display_data"
    }
   ],
   "source": [
    "df['Power'].hist(range = (0,500), bins = 100)\n",
    "plt.ylabel('Frequency')\n",
    "plt.title('Disitibution by horse power')\n",
    "plt.xlabel('horse power')\n",
    "plt.show()"
   ]
  },
  {
   "cell_type": "code",
   "execution_count": 30,
   "metadata": {},
   "outputs": [
    {
     "data": {
      "text/plain": [
       "307047"
      ]
     },
     "execution_count": 30,
     "metadata": {},
     "output_type": "execute_result"
    }
   ],
   "source": [
    "length3 - df['Power'][df['Power'] == 0].count()"
   ]
  },
  {
   "cell_type": "code",
   "execution_count": 31,
   "metadata": {},
   "outputs": [
    {
     "data": {
      "text/plain": [
       "0.10526530505200031"
      ]
     },
     "execution_count": 31,
     "metadata": {},
     "output_type": "execute_result"
    }
   ],
   "source": [
    "df['Power'][df['Power'] == 0].count()/length3"
   ]
  },
  {
   "cell_type": "markdown",
   "metadata": {},
   "source": [
    "There is a peak at zero values in the motor power data. Let's replace the zero values with NaN in order to later replace the missing values in this trait with the median (since the distribution is not normal)."
   ]
  },
  {
   "cell_type": "code",
   "execution_count": 32,
   "metadata": {},
   "outputs": [],
   "source": [
    "df['Power'] = df['Power'].replace([0],np.nan)"
   ]
  },
  {
   "cell_type": "code",
   "execution_count": 33,
   "metadata": {},
   "outputs": [
    {
     "data": {
      "text/plain": [
       "0           NaN\n",
       "1         190.0\n",
       "2         163.0\n",
       "3          75.0\n",
       "4          69.0\n",
       "          ...  \n",
       "354363      NaN\n",
       "354365      NaN\n",
       "354366    101.0\n",
       "354367    102.0\n",
       "354368    100.0\n",
       "Name: Power, Length: 343171, dtype: float64"
      ]
     },
     "execution_count": 33,
     "metadata": {},
     "output_type": "execute_result"
    }
   ],
   "source": [
    "df['Power']"
   ]
  },
  {
   "cell_type": "markdown",
   "metadata": {},
   "source": [
    "We will not use the column `NumberOfPictures` since its values are always zero. The `PostalCode` and `RegistrationMonth` attributes will also not be used, since they do not greatly affect the cost of the car."
   ]
  },
  {
   "cell_type": "code",
   "execution_count": 34,
   "metadata": {},
   "outputs": [],
   "source": [
    "numeric_features = ['RegistrationYear', 'Power', 'Kilometer']"
   ]
  },
  {
   "cell_type": "code",
   "execution_count": 35,
   "metadata": {},
   "outputs": [],
   "source": [
    "target_col = ['Price']"
   ]
  },
  {
   "cell_type": "code",
   "execution_count": 36,
   "metadata": {},
   "outputs": [],
   "source": [
    "categorical_features = ['VehicleType', 'Gearbox', 'Model', 'FuelType', 'Brand', 'NotRepaired']"
   ]
  },
  {
   "cell_type": "code",
   "execution_count": 37,
   "metadata": {},
   "outputs": [
    {
     "data": {
      "text/plain": [
       "0.03159982955619707"
      ]
     },
     "execution_count": 37,
     "metadata": {},
     "output_type": "execute_result"
    }
   ],
   "source": [
    "(df_initial_length - length3)/df_initial_length"
   ]
  },
  {
   "cell_type": "code",
   "execution_count": 38,
   "metadata": {},
   "outputs": [
    {
     "data": {
      "text/plain": [
       "DateCrawled              0\n",
       "Price                    0\n",
       "VehicleType          33571\n",
       "RegistrationYear         0\n",
       "Gearbox              17158\n",
       "Power                36124\n",
       "Model                17350\n",
       "Kilometer                0\n",
       "RegistrationMonth        0\n",
       "FuelType             29286\n",
       "Brand                    0\n",
       "NotRepaired          65625\n",
       "DateCreated              0\n",
       "NumberOfPictures         0\n",
       "PostalCode               0\n",
       "LastSeen                 0\n",
       "dtype: int64"
      ]
     },
     "execution_count": 38,
     "metadata": {},
     "output_type": "execute_result"
    }
   ],
   "source": [
    "df.isna().sum()"
   ]
  },
  {
   "cell_type": "code",
   "execution_count": 39,
   "metadata": {},
   "outputs": [
    {
     "data": {
      "text/plain": [
       "4"
      ]
     },
     "execution_count": 39,
     "metadata": {},
     "output_type": "execute_result"
    }
   ],
   "source": [
    "df.duplicated().sum()"
   ]
  },
  {
   "cell_type": "code",
   "execution_count": 40,
   "metadata": {},
   "outputs": [
    {
     "data": {
      "text/html": [
       "<div>\n",
       "<style scoped>\n",
       "    .dataframe tbody tr th:only-of-type {\n",
       "        vertical-align: middle;\n",
       "    }\n",
       "\n",
       "    .dataframe tbody tr th {\n",
       "        vertical-align: top;\n",
       "    }\n",
       "\n",
       "    .dataframe thead th {\n",
       "        text-align: right;\n",
       "    }\n",
       "</style>\n",
       "<table border=\"1\" class=\"dataframe\">\n",
       "  <thead>\n",
       "    <tr style=\"text-align: right;\">\n",
       "      <th></th>\n",
       "      <th>DateCrawled</th>\n",
       "      <th>Price</th>\n",
       "      <th>VehicleType</th>\n",
       "      <th>RegistrationYear</th>\n",
       "      <th>Gearbox</th>\n",
       "      <th>Power</th>\n",
       "      <th>Model</th>\n",
       "      <th>Kilometer</th>\n",
       "      <th>RegistrationMonth</th>\n",
       "      <th>FuelType</th>\n",
       "      <th>Brand</th>\n",
       "      <th>NotRepaired</th>\n",
       "      <th>DateCreated</th>\n",
       "      <th>NumberOfPictures</th>\n",
       "      <th>PostalCode</th>\n",
       "      <th>LastSeen</th>\n",
       "    </tr>\n",
       "  </thead>\n",
       "  <tbody>\n",
       "    <tr>\n",
       "      <th>171088</th>\n",
       "      <td>2016-03-08 18:42:48</td>\n",
       "      <td>1799</td>\n",
       "      <td>coupe</td>\n",
       "      <td>1999</td>\n",
       "      <td>auto</td>\n",
       "      <td>193.0</td>\n",
       "      <td>clk</td>\n",
       "      <td>20000</td>\n",
       "      <td>7</td>\n",
       "      <td>petrol</td>\n",
       "      <td>mercedes_benz</td>\n",
       "      <td>no</td>\n",
       "      <td>2016-03-08 00:00:00</td>\n",
       "      <td>0</td>\n",
       "      <td>89518</td>\n",
       "      <td>2016-03-09 09:46:57</td>\n",
       "    </tr>\n",
       "    <tr>\n",
       "      <th>231258</th>\n",
       "      <td>2016-03-28 00:56:10</td>\n",
       "      <td>1000</td>\n",
       "      <td>small</td>\n",
       "      <td>2002</td>\n",
       "      <td>manual</td>\n",
       "      <td>83.0</td>\n",
       "      <td>other</td>\n",
       "      <td>150000</td>\n",
       "      <td>1</td>\n",
       "      <td>petrol</td>\n",
       "      <td>suzuki</td>\n",
       "      <td>no</td>\n",
       "      <td>2016-03-28 00:00:00</td>\n",
       "      <td>0</td>\n",
       "      <td>66589</td>\n",
       "      <td>2016-03-28 08:46:21</td>\n",
       "    </tr>\n",
       "    <tr>\n",
       "      <th>258109</th>\n",
       "      <td>2016-04-03 09:01:15</td>\n",
       "      <td>4699</td>\n",
       "      <td>coupe</td>\n",
       "      <td>2003</td>\n",
       "      <td>auto</td>\n",
       "      <td>218.0</td>\n",
       "      <td>clk</td>\n",
       "      <td>125000</td>\n",
       "      <td>6</td>\n",
       "      <td>petrol</td>\n",
       "      <td>mercedes_benz</td>\n",
       "      <td>yes</td>\n",
       "      <td>2016-04-03 00:00:00</td>\n",
       "      <td>0</td>\n",
       "      <td>75196</td>\n",
       "      <td>2016-04-07 09:44:54</td>\n",
       "    </tr>\n",
       "    <tr>\n",
       "      <th>325651</th>\n",
       "      <td>2016-03-18 18:46:15</td>\n",
       "      <td>1999</td>\n",
       "      <td>wagon</td>\n",
       "      <td>2001</td>\n",
       "      <td>manual</td>\n",
       "      <td>131.0</td>\n",
       "      <td>passat</td>\n",
       "      <td>150000</td>\n",
       "      <td>7</td>\n",
       "      <td>gasoline</td>\n",
       "      <td>volkswagen</td>\n",
       "      <td>no</td>\n",
       "      <td>2016-03-18 00:00:00</td>\n",
       "      <td>0</td>\n",
       "      <td>36391</td>\n",
       "      <td>2016-03-18 18:46:15</td>\n",
       "    </tr>\n",
       "  </tbody>\n",
       "</table>\n",
       "</div>"
      ],
      "text/plain": [
       "                DateCrawled  Price VehicleType  RegistrationYear Gearbox  \\\n",
       "171088  2016-03-08 18:42:48   1799       coupe              1999    auto   \n",
       "231258  2016-03-28 00:56:10   1000       small              2002  manual   \n",
       "258109  2016-04-03 09:01:15   4699       coupe              2003    auto   \n",
       "325651  2016-03-18 18:46:15   1999       wagon              2001  manual   \n",
       "\n",
       "        Power   Model  Kilometer  RegistrationMonth  FuelType          Brand  \\\n",
       "171088  193.0     clk      20000                  7    petrol  mercedes_benz   \n",
       "231258   83.0   other     150000                  1    petrol         suzuki   \n",
       "258109  218.0     clk     125000                  6    petrol  mercedes_benz   \n",
       "325651  131.0  passat     150000                  7  gasoline     volkswagen   \n",
       "\n",
       "       NotRepaired          DateCreated  NumberOfPictures  PostalCode  \\\n",
       "171088          no  2016-03-08 00:00:00                 0       89518   \n",
       "231258          no  2016-03-28 00:00:00                 0       66589   \n",
       "258109         yes  2016-04-03 00:00:00                 0       75196   \n",
       "325651          no  2016-03-18 00:00:00                 0       36391   \n",
       "\n",
       "                   LastSeen  \n",
       "171088  2016-03-09 09:46:57  \n",
       "231258  2016-03-28 08:46:21  \n",
       "258109  2016-04-07 09:44:54  \n",
       "325651  2016-03-18 18:46:15  "
      ]
     },
     "execution_count": 40,
     "metadata": {},
     "output_type": "execute_result"
    }
   ],
   "source": [
    "df[df.duplicated()]"
   ]
  },
  {
   "cell_type": "markdown",
   "metadata": {},
   "source": [
    "There are duplicates in the data, let's remove them."
   ]
  },
  {
   "cell_type": "code",
   "execution_count": 41,
   "metadata": {},
   "outputs": [],
   "source": [
    "df = df.drop_duplicates()"
   ]
  },
  {
   "cell_type": "code",
   "execution_count": 42,
   "metadata": {},
   "outputs": [
    {
     "data": {
      "text/plain": [
       "0"
      ]
     },
     "execution_count": 42,
     "metadata": {},
     "output_type": "execute_result"
    }
   ],
   "source": [
    "df.duplicated().sum()"
   ]
  },
  {
   "cell_type": "markdown",
   "metadata": {},
   "source": [
    "Replace the missing values in the categorical variables with \"unknown\""
   ]
  },
  {
   "cell_type": "code",
   "execution_count": 43,
   "metadata": {},
   "outputs": [],
   "source": [
    "df[categorical_features] = df[categorical_features].fillna('unknown')"
   ]
  },
  {
   "cell_type": "code",
   "execution_count": 44,
   "metadata": {},
   "outputs": [
    {
     "data": {
      "text/plain": [
       "0.03161111722526519"
      ]
     },
     "execution_count": 44,
     "metadata": {},
     "output_type": "execute_result"
    }
   ],
   "source": [
    "(df_initial_length - len(df))/df_initial_length"
   ]
  },
  {
   "cell_type": "markdown",
   "metadata": {},
   "source": [
    "### Conclusion  \n",
    "- We deleted 3% of all objects from the sample, whose price is equal to zero.\n",
    "- The objects not falling in the range from 1920 to 2019 were removed according to the feature `RegistrationYear`.\n",
    "- Zero values in the attribute `Power` were replaced with 'NaN'.\n",
    "- Altogether a bit more than 3% of the objects have been removed from the dataset\n",
    "- We will use the following numeric attributes for training the models: 'Price', 'RegistrationYear', 'Power', 'Kilometer', 'RegistrationMonth'\n",
    "- Categorical attributes: 'VehicleType', 'Gearbox', 'Model', 'FuelType', 'Brand', 'NotRepaired', 'PostalCode'\n",
    "- Missing values in categorical variables replaced with \"unknown\"\n",
    "- The missing values in the `Power` attribute are replaced by the median in the pipline."
   ]
  },
  {
   "cell_type": "markdown",
   "metadata": {},
   "source": [
    "## Model training"
   ]
  },
  {
   "cell_type": "code",
   "execution_count": 45,
   "metadata": {},
   "outputs": [
    {
     "data": {
      "text/plain": [
       "['Price',\n",
       " 'RegistrationYear',\n",
       " 'Power',\n",
       " 'Kilometer',\n",
       " 'VehicleType',\n",
       " 'Gearbox',\n",
       " 'Model',\n",
       " 'FuelType',\n",
       " 'Brand',\n",
       " 'NotRepaired']"
      ]
     },
     "execution_count": 45,
     "metadata": {},
     "output_type": "execute_result"
    }
   ],
   "source": [
    "col = target_col + numeric_features + categorical_features\n",
    "col"
   ]
  },
  {
   "cell_type": "code",
   "execution_count": 46,
   "metadata": {},
   "outputs": [],
   "source": [
    "data = df[col].copy()"
   ]
  },
  {
   "cell_type": "code",
   "execution_count": 47,
   "metadata": {},
   "outputs": [],
   "source": [
    "del df"
   ]
  },
  {
   "cell_type": "code",
   "execution_count": 48,
   "metadata": {},
   "outputs": [],
   "source": [
    "test = data.sample(frac=0.2,random_state=42)\n",
    "train_full = data[~data.index.isin(test.index)]\n",
    "\n",
    "features = train_full.drop(['Price'],axis = 1)\n",
    "target = train_full['Price']\n",
    "\n",
    "features_test = test.drop(['Price'], axis =1)\n",
    "target_test = test['Price']"
   ]
  },
  {
   "cell_type": "code",
   "execution_count": 49,
   "metadata": {},
   "outputs": [
    {
     "data": {
      "text/plain": [
       "(68633, 10)"
      ]
     },
     "execution_count": 49,
     "metadata": {},
     "output_type": "execute_result"
    }
   ],
   "source": [
    "test.shape"
   ]
  },
  {
   "cell_type": "code",
   "execution_count": 50,
   "metadata": {},
   "outputs": [
    {
     "data": {
      "text/plain": [
       "(274534, 10)"
      ]
     },
     "execution_count": 50,
     "metadata": {},
     "output_type": "execute_result"
    }
   ],
   "source": [
    "train_full.shape"
   ]
  },
  {
   "cell_type": "code",
   "execution_count": 51,
   "metadata": {},
   "outputs": [],
   "source": [
    "X_train, X_valid, y_train, y_valid = train_test_split(features, target, test_size=0.25, random_state=42).copy()"
   ]
  },
  {
   "cell_type": "code",
   "execution_count": 52,
   "metadata": {},
   "outputs": [],
   "source": [
    "def rmse(y_true, y_pred):\n",
    "    return mean_squared_error(y_true, y_pred)**0.5"
   ]
  },
  {
   "cell_type": "code",
   "execution_count": 53,
   "metadata": {},
   "outputs": [],
   "source": [
    "target_pred_constant = pd.Series([1 for x in range(len(features_test.index))])"
   ]
  },
  {
   "cell_type": "code",
   "execution_count": 54,
   "metadata": {},
   "outputs": [],
   "source": [
    "pred = target_pred_constant*target_test.median()"
   ]
  },
  {
   "cell_type": "markdown",
   "metadata": {},
   "source": [
    "RMSE of the constant model"
   ]
  },
  {
   "cell_type": "code",
   "execution_count": 55,
   "metadata": {},
   "outputs": [
    {
     "data": {
      "text/plain": [
       "4809.710500287062"
      ]
     },
     "execution_count": 55,
     "metadata": {},
     "output_type": "execute_result"
    }
   ],
   "source": [
    "rmse(target_test, pred)"
   ]
  },
  {
   "cell_type": "markdown",
   "metadata": {},
   "source": [
    "Create a scorer variable for cross validation."
   ]
  },
  {
   "cell_type": "code",
   "execution_count": 56,
   "metadata": {},
   "outputs": [],
   "source": [
    "rmse_scorer = make_scorer(rmse, greater_is_better=False)"
   ]
  },
  {
   "cell_type": "code",
   "execution_count": 57,
   "metadata": {},
   "outputs": [],
   "source": [
    "numeric_transformer = Pipeline(steps=[\n",
    "    ('imputer', SimpleImputer(strategy='median')),\n",
    "    ('scaler', StandardScaler())])\n",
    "\n",
    "categorical_transformer = OneHotEncoder(handle_unknown='ignore')\n",
    "\n",
    "preprocessor = ColumnTransformer(\n",
    "    transformers=[\n",
    "        ('num', numeric_transformer, numeric_features),\n",
    "        ('cat', categorical_transformer, categorical_features)])"
   ]
  },
  {
   "cell_type": "markdown",
   "metadata": {},
   "source": [
    "**Linear regression**"
   ]
  },
  {
   "cell_type": "markdown",
   "metadata": {},
   "source": [
    "Let's train the linear regression model and consider the RMSE metric."
   ]
  },
  {
   "cell_type": "code",
   "execution_count": 58,
   "metadata": {},
   "outputs": [],
   "source": [
    "def linreg(X, y):\n",
    "    model = Pipeline(steps=[('preprocessor', preprocessor),\n",
    "                      ('linreg', LinearRegression())])   \n",
    "    return model.fit(X, y)"
   ]
  },
  {
   "cell_type": "code",
   "execution_count": 59,
   "metadata": {},
   "outputs": [
    {
     "name": "stdout",
     "output_type": "stream",
     "text": [
      "Wall time: 3.59 s\n"
     ]
    }
   ],
   "source": [
    "%%time\n",
    "start_time = datetime.now() \n",
    "linreg_model = linreg(X_train, y_train)\n",
    "linreg_time = datetime.now() - start_time\n",
    "linreg_time = linreg_time.total_seconds()"
   ]
  },
  {
   "cell_type": "code",
   "execution_count": 60,
   "metadata": {},
   "outputs": [
    {
     "data": {
      "text/plain": [
       "3.588003"
      ]
     },
     "execution_count": 60,
     "metadata": {},
     "output_type": "execute_result"
    }
   ],
   "source": [
    "linreg_time"
   ]
  },
  {
   "cell_type": "code",
   "execution_count": 61,
   "metadata": {},
   "outputs": [
    {
     "data": {
      "text/plain": [
       "2815.112342978576"
      ]
     },
     "execution_count": 61,
     "metadata": {},
     "output_type": "execute_result"
    }
   ],
   "source": [
    "predicted_valid = linreg_model.predict(X_valid)\n",
    "rmse_lin_valid = mean_squared_error(y_valid, predicted_valid) ** 0.5\n",
    "rmse_lin_valid"
   ]
  },
  {
   "cell_type": "code",
   "execution_count": 62,
   "metadata": {},
   "outputs": [
    {
     "name": "stdout",
     "output_type": "stream",
     "text": [
      "Wall time: 140 ms\n"
     ]
    }
   ],
   "source": [
    "%%time\n",
    "start_time = datetime.now() \n",
    "linreg_pred = linreg_model.predict(features_test)\n",
    "\n",
    "linreg_ptime = datetime.now() - start_time\n",
    "linreg_ptime = linreg_ptime.total_seconds()"
   ]
  },
  {
   "cell_type": "code",
   "execution_count": 63,
   "metadata": {},
   "outputs": [
    {
     "data": {
      "text/plain": [
       "2839.16622219384"
      ]
     },
     "execution_count": 63,
     "metadata": {},
     "output_type": "execute_result"
    }
   ],
   "source": [
    "linreg_mse = cross_val_score(linreg_model, X_valid, y_valid, cv=3, scoring='neg_mean_squared_error').mean()*(-1)\n",
    "score_valid = linreg_mse**0.5\n",
    "score_valid"
   ]
  },
  {
   "cell_type": "code",
   "execution_count": 64,
   "metadata": {},
   "outputs": [
    {
     "data": {
      "text/plain": [
       "2792.861683954849"
      ]
     },
     "execution_count": 64,
     "metadata": {},
     "output_type": "execute_result"
    }
   ],
   "source": [
    "score_test = rmse(linreg_pred,target_test)\n",
    "score_test"
   ]
  },
  {
   "cell_type": "markdown",
   "metadata": {},
   "source": [
    "The RMSE is much better than with the constano model, but the error is still large."
   ]
  },
  {
   "cell_type": "code",
   "execution_count": 65,
   "metadata": {},
   "outputs": [
    {
     "data": {
      "text/html": [
       "<div>\n",
       "<style scoped>\n",
       "    .dataframe tbody tr th:only-of-type {\n",
       "        vertical-align: middle;\n",
       "    }\n",
       "\n",
       "    .dataframe tbody tr th {\n",
       "        vertical-align: top;\n",
       "    }\n",
       "\n",
       "    .dataframe thead th {\n",
       "        text-align: right;\n",
       "    }\n",
       "</style>\n",
       "<table border=\"1\" class=\"dataframe\">\n",
       "  <thead>\n",
       "    <tr style=\"text-align: right;\">\n",
       "      <th></th>\n",
       "      <th>Model</th>\n",
       "      <th>Training time, s</th>\n",
       "      <th>Prediction time, s</th>\n",
       "      <th>RMSE valid</th>\n",
       "      <th>RMSE test</th>\n",
       "    </tr>\n",
       "  </thead>\n",
       "  <tbody>\n",
       "    <tr>\n",
       "      <th>0</th>\n",
       "      <td>Linreg</td>\n",
       "      <td>3.588003</td>\n",
       "      <td>0.140416</td>\n",
       "      <td>2839.0</td>\n",
       "      <td>2793.0</td>\n",
       "    </tr>\n",
       "  </tbody>\n",
       "</table>\n",
       "</div>"
      ],
      "text/plain": [
       "    Model  Training time, s  Prediction time, s  RMSE valid  RMSE test\n",
       "0  Linreg          3.588003            0.140416      2839.0     2793.0"
      ]
     },
     "execution_count": 65,
     "metadata": {},
     "output_type": "execute_result"
    }
   ],
   "source": [
    "res_lin = pd.DataFrame({'Model': ['Linreg'],'Training time, s': [linreg_time],\n",
    "                        'Prediction time, s': [linreg_ptime],\n",
    "                       'RMSE valid':[score_valid.round(0)], \n",
    "                       'RMSE test':[score_test.round(0)]})\n",
    "res_lin"
   ]
  },
  {
   "cell_type": "markdown",
   "metadata": {},
   "source": [
    "**LightGBM**"
   ]
  },
  {
   "cell_type": "code",
   "execution_count": 66,
   "metadata": {},
   "outputs": [],
   "source": [
    "lgb_X_train = X_train.copy()\n",
    "lgb_X_valid = X_valid.copy()\n",
    "lgb_features_test = features_test.copy()\n",
    "lgb_y_train = y_train.copy()\n",
    "lgb_y_valid = y_valid.copy()\n",
    "lgb_target_test = target_test.copy()\n",
    "\n",
    "lgb_X_train[categorical_features] = lgb_X_train[categorical_features].astype(\"category\")\n",
    "lgb_X_valid[categorical_features] = lgb_X_valid[categorical_features].astype(\"category\")\n",
    "lgb_features_test[categorical_features] = lgb_features_test[categorical_features].astype(\"category\")"
   ]
  },
  {
   "cell_type": "code",
   "execution_count": 67,
   "metadata": {},
   "outputs": [],
   "source": [
    "lgb_train = lgb.Dataset(lgb_X_train, lgb_y_train)\n",
    "lgb_eval = lgb.Dataset(lgb_X_valid, lgb_y_valid, reference=lgb_train)"
   ]
  },
  {
   "cell_type": "code",
   "execution_count": 68,
   "metadata": {},
   "outputs": [],
   "source": [
    "params = {\n",
    "    'metric': ['l2'],\n",
    "    'num_leaves': [30, 40],\n",
    "    'learning_rate': [0.1, 0.05],\n",
    "    'n_estimators': [40]\n",
    "}\n",
    "estimator = lgb.LGBMRegressor(boosting_type = 'gbdt', random_state = 42 )"
   ]
  },
  {
   "cell_type": "code",
   "execution_count": 69,
   "metadata": {},
   "outputs": [
    {
     "name": "stdout",
     "output_type": "stream",
     "text": [
      "Fitting 2 folds for each of 4 candidates, totalling 8 fits\n",
      "Wall time: 11.1 s\n"
     ]
    },
    {
     "data": {
      "text/plain": [
       "GridSearchCV(cv=2, estimator=LGBMRegressor(random_state=42), n_jobs=-1,\n",
       "             param_grid={'learning_rate': [0.1, 0.05], 'metric': ['l2'],\n",
       "                         'n_estimators': [40], 'num_leaves': [30, 40]},\n",
       "             scoring='neg_mean_squared_error', verbose=5)"
      ]
     },
     "execution_count": 69,
     "metadata": {},
     "output_type": "execute_result"
    }
   ],
   "source": [
    "%%time\n",
    "grid_search = GridSearchCV(estimator, n_jobs=-1, param_grid=params, cv = 2, scoring='neg_mean_squared_error', verbose=5)\n",
    "grid_search.fit(lgb_X_train,lgb_y_train)\n"
   ]
  },
  {
   "cell_type": "code",
   "execution_count": 70,
   "metadata": {},
   "outputs": [
    {
     "data": {
      "text/plain": [
       "{'learning_rate': 0.1, 'metric': 'l2', 'n_estimators': 40, 'num_leaves': 40}"
      ]
     },
     "execution_count": 70,
     "metadata": {},
     "output_type": "execute_result"
    }
   ],
   "source": [
    "grid_search.best_params_"
   ]
  },
  {
   "cell_type": "code",
   "execution_count": 71,
   "metadata": {},
   "outputs": [
    {
     "name": "stderr",
     "output_type": "stream",
     "text": [
      "c:\\Users\\ROKO000000109\\anaconda3\\lib\\site-packages\\lightgbm\\engine.py:177: UserWarning: Found `n_estimators` in params. Will use it instead of argument\n",
      "  _log_warning(f\"Found `{alias}` in params. Will use it instead of argument\")\n"
     ]
    },
    {
     "name": "stdout",
     "output_type": "stream",
     "text": [
      "[LightGBM] [Warning] Auto-choosing row-wise multi-threading, the overhead of testing was 0.006009 seconds.\n",
      "You can set `force_row_wise=true` to remove the overhead.\n",
      "And if memory is not enough, you can set `force_col_wise=true`.\n",
      "[LightGBM] [Info] Total Bins 642\n",
      "[LightGBM] [Info] Number of data points in the train set: 205900, number of used features: 9\n",
      "[LightGBM] [Info] Start training from score 4565.856251\n",
      "Wall time: 545 ms\n"
     ]
    }
   ],
   "source": [
    "%%time\n",
    "start_time = datetime.now() \n",
    "params = {\"learning_rate\" : 0.1,\n",
    "          \"num_leaves\": 40,\n",
    "          \"n_estimators\": 40\n",
    "             }\n",
    "gbm = lgb.train(params,\n",
    "                lgb_train,\n",
    "                num_boost_round=100)\n",
    "                \n",
    "lgbm_time = datetime.now() - start_time\n",
    "lgbm_time = lgbm_time.total_seconds()"
   ]
  },
  {
   "cell_type": "code",
   "execution_count": 72,
   "metadata": {},
   "outputs": [
    {
     "data": {
      "text/plain": [
       "1753.3192207151258"
      ]
     },
     "execution_count": 72,
     "metadata": {},
     "output_type": "execute_result"
    }
   ],
   "source": [
    "y_valid_pred = gbm.predict(lgb_X_valid, num_iteration=gbm.best_iteration)\n",
    "gbm_valid_rmse = mean_squared_error(lgb_y_valid, y_valid_pred) ** 0.5\n",
    "gbm_valid_rmse"
   ]
  },
  {
   "cell_type": "code",
   "execution_count": 73,
   "metadata": {},
   "outputs": [
    {
     "name": "stdout",
     "output_type": "stream",
     "text": [
      "Wall time: 142 ms\n"
     ]
    }
   ],
   "source": [
    "%%time\n",
    "start_time = datetime.now() \n",
    "y_pred = gbm.predict(lgb_features_test, num_iteration=gbm.best_iteration)\n",
    "lgbm_ptime = datetime.now() - start_time\n",
    "lgbm_ptime = lgbm_ptime.total_seconds()\n"
   ]
  },
  {
   "cell_type": "code",
   "execution_count": 74,
   "metadata": {},
   "outputs": [
    {
     "data": {
      "text/plain": [
       "1749.9703326248807"
      ]
     },
     "execution_count": 74,
     "metadata": {},
     "output_type": "execute_result"
    }
   ],
   "source": [
    "gbm_rmse = mean_squared_error(lgb_target_test, y_pred) ** 0.5\n",
    "gbm_rmse"
   ]
  },
  {
   "cell_type": "code",
   "execution_count": 75,
   "metadata": {},
   "outputs": [
    {
     "data": {
      "text/html": [
       "<div>\n",
       "<style scoped>\n",
       "    .dataframe tbody tr th:only-of-type {\n",
       "        vertical-align: middle;\n",
       "    }\n",
       "\n",
       "    .dataframe tbody tr th {\n",
       "        vertical-align: top;\n",
       "    }\n",
       "\n",
       "    .dataframe thead th {\n",
       "        text-align: right;\n",
       "    }\n",
       "</style>\n",
       "<table border=\"1\" class=\"dataframe\">\n",
       "  <thead>\n",
       "    <tr style=\"text-align: right;\">\n",
       "      <th></th>\n",
       "      <th>Model</th>\n",
       "      <th>Training time, s</th>\n",
       "      <th>Prediction time, s</th>\n",
       "      <th>RMSE valid</th>\n",
       "      <th>RMSE test</th>\n",
       "    </tr>\n",
       "  </thead>\n",
       "  <tbody>\n",
       "    <tr>\n",
       "      <th>0</th>\n",
       "      <td>Lightgbm</td>\n",
       "      <td>0.545082</td>\n",
       "      <td>0.141601</td>\n",
       "      <td>1753.0</td>\n",
       "      <td>1750.0</td>\n",
       "    </tr>\n",
       "  </tbody>\n",
       "</table>\n",
       "</div>"
      ],
      "text/plain": [
       "      Model  Training time, s  Prediction time, s  RMSE valid  RMSE test\n",
       "0  Lightgbm          0.545082            0.141601      1753.0     1750.0"
      ]
     },
     "execution_count": 75,
     "metadata": {},
     "output_type": "execute_result"
    }
   ],
   "source": [
    "res_gbm = pd.DataFrame({'Model': ['Lightgbm'],\n",
    "                        'Training time, s': [lgbm_time], \n",
    "                        'Prediction time, s': [lgbm_ptime],\n",
    "                        'RMSE valid':[gbm_valid_rmse.round(0)],\n",
    "                       'RMSE test':[gbm_rmse.round(0)]})\n",
    "res_gbm"
   ]
  },
  {
   "cell_type": "markdown",
   "metadata": {},
   "source": [
    "**Catboost**"
   ]
  },
  {
   "cell_type": "code",
   "execution_count": 76,
   "metadata": {},
   "outputs": [],
   "source": [
    "cb = CatBoostRegressor(loss_function='RMSE', cat_features=categorical_features)\n",
    "\n",
    "grid = {'learning_rate': [0.01,0.1],\n",
    "    'iterations': [100,1000],\n",
    "    'depth': [8,10],\n",
    "    'verbose' : [1000]\n",
    "}\n",
    "\n",
    "grid_search_cb = GridSearchCV(cb,\n",
    "                        grid,\n",
    "                        cv=cv,\n",
    "                        scoring='neg_mean_squared_error')\n",
    "\n",
    "cv_dataset = Pool(data=X_train,\n",
    "                  label=y_train,\n",
    "                  cat_features= categorical_features)"
   ]
  },
  {
   "cell_type": "code",
   "execution_count": 77,
   "metadata": {},
   "outputs": [
    {
     "name": "stdout",
     "output_type": "stream",
     "text": [
      "0:\tlearn: 6353.7380974\ttest: 6446.4603234\tbest: 6446.4603234 (0)\ttotal: 204ms\tremaining: 20.2s\n",
      "99:\tlearn: 3221.8231279\ttest: 3274.0096132\tbest: 3274.0096132 (99)\ttotal: 8.09s\tremaining: 0us\n",
      "\n",
      "bestTest = 3274.009613\n",
      "bestIteration = 99\n",
      "\n",
      "0:\tloss: 3274.0096132\tbest: 3274.0096132 (0)\ttotal: 8.24s\tremaining: 57.7s\n",
      "0:\tlearn: 5877.4406824\ttest: 5964.1985023\tbest: 5964.1985023 (0)\ttotal: 86ms\tremaining: 8.51s\n",
      "99:\tlearn: 1752.5561609\ttest: 1788.2959773\tbest: 1788.2959773 (99)\ttotal: 7.91s\tremaining: 0us\n",
      "\n",
      "bestTest = 1788.295977\n",
      "bestIteration = 99\n",
      "\n",
      "1:\tloss: 1788.2959773\tbest: 1788.2959773 (1)\ttotal: 16.2s\tremaining: 48.6s\n",
      "0:\tlearn: 6353.1278244\ttest: 6445.7185416\tbest: 6445.7185416 (0)\ttotal: 201ms\tremaining: 3m 20s\n",
      "999:\tlearn: 1735.2692022\ttest: 1771.4324964\tbest: 1771.4324964 (999)\ttotal: 3m 2s\tremaining: 0us\n",
      "\n",
      "bestTest = 1771.432496\n",
      "bestIteration = 999\n",
      "\n",
      "2:\tloss: 1771.4324964\tbest: 1771.4324964 (2)\ttotal: 3m 19s\tremaining: 5m 32s\n",
      "0:\tlearn: 5871.1046543\ttest: 5956.5432221\tbest: 5956.5432221 (0)\ttotal: 304ms\tremaining: 5m 3s\n",
      "999:\tlearn: 1458.9530131\ttest: 1629.0323609\tbest: 1629.0323609 (999)\ttotal: 3m 5s\tremaining: 0us\n",
      "\n",
      "bestTest = 1629.032361\n",
      "bestIteration = 999\n",
      "\n",
      "3:\tloss: 1629.0323609\tbest: 1629.0323609 (3)\ttotal: 6m 24s\tremaining: 6m 24s\n",
      "0:\tlearn: 6352.9743556\ttest: 6445.6791939\tbest: 6445.6791939 (0)\ttotal: 112ms\tremaining: 11.1s\n",
      "99:\tlearn: 3178.9796928\ttest: 3233.9889857\tbest: 3233.9889857 (99)\ttotal: 9.42s\tremaining: 0us\n",
      "\n",
      "bestTest = 3233.988986\n",
      "bestIteration = 99\n",
      "\n",
      "4:\tloss: 3233.9889857\tbest: 1629.0323609 (3)\ttotal: 6m 34s\tremaining: 3m 56s\n",
      "0:\tlearn: 5869.5097432\ttest: 5956.1239453\tbest: 5956.1239453 (0)\ttotal: 107ms\tremaining: 10.5s\n",
      "99:\tlearn: 1670.5262571\ttest: 1740.2964032\tbest: 1740.2964032 (99)\ttotal: 9.21s\tremaining: 0us\n",
      "\n",
      "bestTest = 1740.296403\n",
      "bestIteration = 99\n",
      "\n",
      "5:\tloss: 1740.2964032\tbest: 1629.0323609 (3)\ttotal: 6m 43s\tremaining: 2m 14s\n",
      "0:\tlearn: 6352.9804275\ttest: 6445.5171625\tbest: 6445.5171625 (0)\ttotal: 285ms\tremaining: 4m 44s\n",
      "999:\tlearn: 1654.4678145\ttest: 1723.6803807\tbest: 1723.6803807 (999)\ttotal: 4m 3s\tremaining: 0us\n",
      "\n",
      "bestTest = 1723.680381\n",
      "bestIteration = 999\n",
      "\n",
      "6:\tloss: 1723.6803807\tbest: 1629.0323609 (3)\ttotal: 10m 47s\tremaining: 1m 32s\n",
      "0:\tlearn: 5869.5118054\ttest: 5954.4039095\tbest: 5954.4039095 (0)\ttotal: 244ms\tremaining: 4m 3s\n",
      "999:\tlearn: 1322.3969654\ttest: 1614.8773728\tbest: 1614.8773728 (999)\ttotal: 4m 28s\tremaining: 0us\n",
      "\n",
      "bestTest = 1614.877373\n",
      "bestIteration = 999\n",
      "\n",
      "7:\tloss: 1614.8773728\tbest: 1614.8773728 (7)\ttotal: 15m 16s\tremaining: 0us\n",
      "Estimating final quality...\n",
      "Training on fold [0/3]\n",
      "0:\tlearn: 5886.2803285\ttest: 5901.4003843\tbest: 5901.4003843 (0)\ttotal: 228ms\tremaining: 3m 48s\n",
      "999:\tlearn: 1290.6571012\ttest: 1617.0639329\tbest: 1617.0639329 (999)\ttotal: 4m 2s\tremaining: 0us\n",
      "\n",
      "bestTest = 1617.063933\n",
      "bestIteration = 999\n",
      "\n",
      "Training on fold [1/3]\n",
      "0:\tlearn: 5906.4484082\ttest: 5859.9057630\tbest: 5859.9057630 (0)\ttotal: 261ms\tremaining: 4m 20s\n",
      "999:\tlearn: 1286.6338293\ttest: 1617.1521189\tbest: 1617.1330111 (998)\ttotal: 3m 58s\tremaining: 0us\n",
      "\n",
      "bestTest = 1617.133011\n",
      "bestIteration = 998\n",
      "\n",
      "Training on fold [2/3]\n",
      "0:\tlearn: 5878.1767649\ttest: 5918.4697346\tbest: 5918.4697346 (0)\ttotal: 239ms\tremaining: 3m 58s\n",
      "999:\tlearn: 1293.8862686\ttest: 1605.6718569\tbest: 1605.6613996 (996)\ttotal: 4m 34s\tremaining: 0us\n",
      "\n",
      "bestTest = 1605.6614\n",
      "bestIteration = 996\n",
      "\n"
     ]
    }
   ],
   "source": [
    "grid_search_result = cb.grid_search(grid, cv_dataset, plot=False)"
   ]
  },
  {
   "cell_type": "code",
   "execution_count": 78,
   "metadata": {},
   "outputs": [
    {
     "data": {
      "text/plain": [
       "{'depth': 10, 'verbose': 1000, 'iterations': 1000, 'learning_rate': 0.1}"
      ]
     },
     "execution_count": 78,
     "metadata": {},
     "output_type": "execute_result"
    }
   ],
   "source": [
    "grid_search_result['params']"
   ]
  },
  {
   "cell_type": "code",
   "execution_count": 79,
   "metadata": {},
   "outputs": [
    {
     "data": {
      "application/vnd.jupyter.widget-view+json": {
       "model_id": "bc480f6612f64b629f649a93dc5c8a51",
       "version_major": 2,
       "version_minor": 0
      },
      "text/plain": [
       "MetricVisualizer(layout=Layout(align_self='stretch', height='500px'))"
      ]
     },
     "metadata": {},
     "output_type": "display_data"
    },
    {
     "name": "stdout",
     "output_type": "stream",
     "text": [
      "Training on fold [0/3]\n",
      "0:\tlearn: 5893.6828828\ttest: 5908.5202909\tbest: 5908.5202909 (0)\ttotal: 174ms\tremaining: 2m 54s\n",
      "999:\tlearn: 1293.3875831\ttest: 1616.1201513\tbest: 1616.0805585 (997)\ttotal: 4m 36s\tremaining: 0us\n",
      "\n",
      "bestTest = 1616.080558\n",
      "bestIteration = 997\n",
      "\n",
      "Training on fold [1/3]\n",
      "0:\tlearn: 5911.2482928\ttest: 5865.6847499\tbest: 5865.6847499 (0)\ttotal: 225ms\tremaining: 3m 44s\n",
      "999:\tlearn: 1298.2983591\ttest: 1617.8249827\tbest: 1617.7896254 (997)\ttotal: 4m 41s\tremaining: 0us\n",
      "\n",
      "bestTest = 1617.789625\n",
      "bestIteration = 997\n",
      "\n",
      "Training on fold [2/3]\n",
      "0:\tlearn: 5882.8336396\ttest: 5919.1655484\tbest: 5919.1655484 (0)\ttotal: 213ms\tremaining: 3m 33s\n",
      "999:\tlearn: 1298.7235444\ttest: 1613.3523405\tbest: 1613.1941635 (985)\ttotal: 4m 31s\tremaining: 0us\n",
      "\n",
      "bestTest = 1613.194163\n",
      "bestIteration = 985\n",
      "\n"
     ]
    }
   ],
   "source": [
    "params = {\"iterations\": 1000,\n",
    "          \"depth\": 10,\n",
    "          \"loss_function\": \"RMSE\",\n",
    "          \"verbose\": 1000,\n",
    "          \"random_state\": 42,\n",
    "          \"learning_rate\": 0.1}\n",
    "\n",
    "scores = cv(cv_dataset, params, fold_count=3, plot=True)"
   ]
  },
  {
   "cell_type": "code",
   "execution_count": 80,
   "metadata": {},
   "outputs": [
    {
     "name": "stdout",
     "output_type": "stream",
     "text": [
      "0:\tlearn: 4215.6135560\ttest: 4192.3965015\tbest: 4192.3965015 (0)\ttotal: 223ms\tremaining: 3m 43s\n",
      "10:\tlearn: 2575.9969569\ttest: 2574.6437790\tbest: 2574.6437790 (10)\ttotal: 2.42s\tremaining: 3m 37s\n",
      "20:\tlearn: 2092.4351068\ttest: 2102.0309677\tbest: 2102.0309677 (20)\ttotal: 4.66s\tremaining: 3m 37s\n",
      "30:\tlearn: 1938.2226694\ttest: 1954.3418887\tbest: 1954.3418887 (30)\ttotal: 6.74s\tremaining: 3m 30s\n",
      "40:\tlearn: 1872.2091115\ttest: 1892.3518899\tbest: 1892.3518899 (40)\ttotal: 8.88s\tremaining: 3m 27s\n",
      "50:\tlearn: 1836.1968596\ttest: 1858.7839283\tbest: 1858.7839283 (50)\ttotal: 11s\tremaining: 3m 24s\n",
      "60:\tlearn: 1807.6213468\ttest: 1831.3320162\tbest: 1831.3320162 (60)\ttotal: 12.9s\tremaining: 3m 17s\n",
      "70:\tlearn: 1785.8684411\ttest: 1812.4683184\tbest: 1812.4683184 (70)\ttotal: 15s\tremaining: 3m 15s\n",
      "80:\tlearn: 1767.1352127\ttest: 1794.9391040\tbest: 1794.9391040 (80)\ttotal: 16.9s\tremaining: 3m 11s\n",
      "90:\tlearn: 1750.5023648\ttest: 1780.7737280\tbest: 1780.7737280 (90)\ttotal: 19.1s\tremaining: 3m 11s\n",
      "100:\tlearn: 1737.6465729\ttest: 1769.9696586\tbest: 1769.9696586 (100)\ttotal: 21.1s\tremaining: 3m 8s\n",
      "110:\tlearn: 1725.4696875\ttest: 1760.0802657\tbest: 1760.0802657 (110)\ttotal: 23.3s\tremaining: 3m 6s\n",
      "120:\tlearn: 1715.2005080\ttest: 1751.1945864\tbest: 1751.1945864 (120)\ttotal: 25.5s\tremaining: 3m 5s\n",
      "130:\tlearn: 1705.3773074\ttest: 1744.0729348\tbest: 1744.0729348 (130)\ttotal: 27.7s\tremaining: 3m 3s\n",
      "140:\tlearn: 1694.3877617\ttest: 1734.9880564\tbest: 1734.9880564 (140)\ttotal: 29.7s\tremaining: 3m 1s\n",
      "150:\tlearn: 1684.8202421\ttest: 1727.8158711\tbest: 1727.8158711 (150)\ttotal: 31.8s\tremaining: 2m 59s\n",
      "160:\tlearn: 1676.9781850\ttest: 1721.7110643\tbest: 1721.7110643 (160)\ttotal: 34s\tremaining: 2m 57s\n",
      "170:\tlearn: 1670.1253955\ttest: 1717.1328236\tbest: 1717.1328236 (170)\ttotal: 36.1s\tremaining: 2m 55s\n",
      "180:\tlearn: 1664.4493055\ttest: 1713.3425754\tbest: 1713.3425754 (180)\ttotal: 38.3s\tremaining: 2m 53s\n",
      "190:\tlearn: 1659.6596899\ttest: 1710.8430210\tbest: 1710.8430210 (190)\ttotal: 40.3s\tremaining: 2m 50s\n",
      "200:\tlearn: 1653.2615204\ttest: 1706.2076504\tbest: 1706.2076504 (200)\ttotal: 42.4s\tremaining: 2m 48s\n",
      "210:\tlearn: 1648.1986911\ttest: 1702.8632577\tbest: 1702.8632577 (210)\ttotal: 44.5s\tremaining: 2m 46s\n",
      "220:\tlearn: 1643.2489424\ttest: 1700.0209726\tbest: 1700.0209726 (220)\ttotal: 46.6s\tremaining: 2m 44s\n",
      "230:\tlearn: 1638.2347136\ttest: 1696.7491007\tbest: 1696.7491007 (230)\ttotal: 48.7s\tremaining: 2m 41s\n",
      "240:\tlearn: 1633.3901880\ttest: 1693.4949780\tbest: 1693.4949780 (240)\ttotal: 50.7s\tremaining: 2m 39s\n",
      "250:\tlearn: 1628.2148915\ttest: 1690.3755137\tbest: 1690.3755137 (250)\ttotal: 52.8s\tremaining: 2m 37s\n",
      "260:\tlearn: 1623.1098514\ttest: 1687.1075423\tbest: 1687.1075423 (260)\ttotal: 54.8s\tremaining: 2m 35s\n",
      "270:\tlearn: 1618.8450786\ttest: 1684.5967001\tbest: 1684.5967001 (270)\ttotal: 56.9s\tremaining: 2m 33s\n",
      "280:\tlearn: 1615.8891115\ttest: 1682.9643633\tbest: 1682.9643633 (280)\ttotal: 59s\tremaining: 2m 30s\n",
      "290:\tlearn: 1612.2161333\ttest: 1680.9376404\tbest: 1680.9376404 (290)\ttotal: 1m 1s\tremaining: 2m 29s\n",
      "300:\tlearn: 1608.9673420\ttest: 1679.6217242\tbest: 1679.6217242 (300)\ttotal: 1m 3s\tremaining: 2m 27s\n",
      "310:\tlearn: 1605.6111820\ttest: 1677.5413929\tbest: 1677.5413929 (310)\ttotal: 1m 5s\tremaining: 2m 25s\n",
      "320:\tlearn: 1603.2145150\ttest: 1676.7058904\tbest: 1676.7058904 (320)\ttotal: 1m 7s\tremaining: 2m 22s\n",
      "330:\tlearn: 1600.1830927\ttest: 1675.1201085\tbest: 1675.1201085 (330)\ttotal: 1m 9s\tremaining: 2m 21s\n",
      "340:\tlearn: 1596.7444514\ttest: 1673.2793084\tbest: 1673.2793084 (340)\ttotal: 1m 11s\tremaining: 2m 19s\n",
      "350:\tlearn: 1591.7820767\ttest: 1670.8718161\tbest: 1670.8718161 (350)\ttotal: 1m 14s\tremaining: 2m 17s\n",
      "360:\tlearn: 1588.2721850\ttest: 1669.2273067\tbest: 1669.2273067 (360)\ttotal: 1m 16s\tremaining: 2m 15s\n",
      "370:\tlearn: 1584.9751314\ttest: 1667.8716179\tbest: 1667.8716179 (370)\ttotal: 1m 18s\tremaining: 2m 13s\n",
      "380:\tlearn: 1582.5268414\ttest: 1666.9653054\tbest: 1666.9141782 (379)\ttotal: 1m 20s\tremaining: 2m 11s\n",
      "390:\tlearn: 1579.4989837\ttest: 1665.0949380\tbest: 1665.0949380 (390)\ttotal: 1m 22s\tremaining: 2m 8s\n",
      "400:\tlearn: 1577.1004589\ttest: 1664.4248216\tbest: 1664.4248216 (400)\ttotal: 1m 25s\tremaining: 2m 7s\n",
      "410:\tlearn: 1574.5887474\ttest: 1663.1774568\tbest: 1663.1774568 (410)\ttotal: 1m 27s\tremaining: 2m 5s\n",
      "420:\tlearn: 1571.8798045\ttest: 1661.8824332\tbest: 1661.8824332 (420)\ttotal: 1m 29s\tremaining: 2m 3s\n",
      "430:\tlearn: 1569.5271797\ttest: 1660.7850596\tbest: 1660.7604622 (429)\ttotal: 1m 31s\tremaining: 2m 1s\n",
      "440:\tlearn: 1567.4907400\ttest: 1659.8170252\tbest: 1659.8170252 (440)\ttotal: 1m 34s\tremaining: 1m 59s\n",
      "450:\tlearn: 1564.7757849\ttest: 1658.3291130\tbest: 1658.3291130 (450)\ttotal: 1m 36s\tremaining: 1m 57s\n",
      "460:\tlearn: 1562.3496606\ttest: 1657.3571655\tbest: 1657.3571655 (460)\ttotal: 1m 38s\tremaining: 1m 55s\n",
      "470:\tlearn: 1560.2795391\ttest: 1656.7547555\tbest: 1656.7547555 (470)\ttotal: 1m 40s\tremaining: 1m 53s\n",
      "480:\tlearn: 1558.3953064\ttest: 1656.2570136\tbest: 1656.2570136 (480)\ttotal: 1m 43s\tremaining: 1m 51s\n",
      "490:\tlearn: 1555.9813806\ttest: 1655.2942320\tbest: 1655.2942320 (490)\ttotal: 1m 45s\tremaining: 1m 49s\n",
      "500:\tlearn: 1554.0883433\ttest: 1654.5839087\tbest: 1654.5839087 (500)\ttotal: 1m 47s\tremaining: 1m 47s\n",
      "510:\tlearn: 1551.4175333\ttest: 1653.6179421\tbest: 1653.6172814 (509)\ttotal: 1m 50s\tremaining: 1m 45s\n",
      "520:\tlearn: 1548.2741665\ttest: 1652.3821212\tbest: 1652.3821212 (520)\ttotal: 1m 52s\tremaining: 1m 43s\n",
      "530:\tlearn: 1546.0191262\ttest: 1651.4427906\tbest: 1651.4427906 (530)\ttotal: 1m 54s\tremaining: 1m 41s\n",
      "540:\tlearn: 1543.3411949\ttest: 1650.1491598\tbest: 1650.1491598 (540)\ttotal: 1m 56s\tremaining: 1m 38s\n",
      "550:\tlearn: 1541.5103040\ttest: 1649.5437638\tbest: 1649.5437638 (550)\ttotal: 1m 58s\tremaining: 1m 36s\n",
      "560:\tlearn: 1538.7534031\ttest: 1648.1928806\tbest: 1648.1928806 (560)\ttotal: 2m\tremaining: 1m 34s\n",
      "570:\tlearn: 1536.6400651\ttest: 1647.5192089\tbest: 1647.5192089 (570)\ttotal: 2m 3s\tremaining: 1m 32s\n",
      "580:\tlearn: 1534.3058711\ttest: 1646.3195562\tbest: 1646.3195562 (580)\ttotal: 2m 5s\tremaining: 1m 30s\n",
      "590:\tlearn: 1531.9305600\ttest: 1645.5599519\tbest: 1645.5599519 (590)\ttotal: 2m 7s\tremaining: 1m 28s\n",
      "600:\tlearn: 1529.4900260\ttest: 1644.5744107\tbest: 1644.5744107 (600)\ttotal: 2m 9s\tremaining: 1m 26s\n",
      "610:\tlearn: 1527.9537568\ttest: 1644.2321632\tbest: 1644.2321632 (610)\ttotal: 2m 12s\tremaining: 1m 24s\n",
      "620:\tlearn: 1525.7630972\ttest: 1643.4365024\tbest: 1643.4365024 (620)\ttotal: 2m 14s\tremaining: 1m 21s\n",
      "630:\tlearn: 1523.8023879\ttest: 1642.5807770\tbest: 1642.5807770 (630)\ttotal: 2m 16s\tremaining: 1m 19s\n",
      "640:\tlearn: 1521.7604657\ttest: 1641.8537496\tbest: 1641.8537496 (640)\ttotal: 2m 18s\tremaining: 1m 17s\n",
      "650:\tlearn: 1519.9088471\ttest: 1641.2420557\tbest: 1641.2193974 (649)\ttotal: 2m 20s\tremaining: 1m 15s\n",
      "660:\tlearn: 1518.2436437\ttest: 1640.5884297\tbest: 1640.5884297 (660)\ttotal: 2m 22s\tremaining: 1m 13s\n",
      "670:\tlearn: 1516.6912964\ttest: 1640.0538234\tbest: 1640.0538234 (670)\ttotal: 2m 25s\tremaining: 1m 11s\n",
      "680:\tlearn: 1514.8583258\ttest: 1639.3030901\tbest: 1639.3030901 (680)\ttotal: 2m 27s\tremaining: 1m 8s\n",
      "690:\tlearn: 1512.6779979\ttest: 1638.3813306\tbest: 1638.3813306 (690)\ttotal: 2m 29s\tremaining: 1m 6s\n",
      "700:\tlearn: 1511.3984751\ttest: 1637.8249588\tbest: 1637.8060382 (699)\ttotal: 2m 31s\tremaining: 1m 4s\n",
      "710:\tlearn: 1509.7546681\ttest: 1637.6706737\tbest: 1637.6252892 (706)\ttotal: 2m 34s\tremaining: 1m 2s\n",
      "720:\tlearn: 1508.0626304\ttest: 1636.9609547\tbest: 1636.9609547 (720)\ttotal: 2m 36s\tremaining: 1m\n",
      "730:\tlearn: 1506.7337729\ttest: 1636.6627968\tbest: 1636.6457322 (729)\ttotal: 2m 38s\tremaining: 58.2s\n",
      "740:\tlearn: 1504.8812196\ttest: 1635.8952802\tbest: 1635.8952802 (740)\ttotal: 2m 40s\tremaining: 56.1s\n",
      "750:\tlearn: 1502.6934016\ttest: 1634.9461416\tbest: 1634.9461416 (750)\ttotal: 2m 42s\tremaining: 53.9s\n",
      "760:\tlearn: 1501.2543772\ttest: 1634.4019622\tbest: 1634.4019622 (760)\ttotal: 2m 44s\tremaining: 51.7s\n",
      "770:\tlearn: 1499.2959094\ttest: 1633.8409005\tbest: 1633.8409005 (770)\ttotal: 2m 46s\tremaining: 49.6s\n",
      "780:\tlearn: 1497.8904979\ttest: 1633.2534210\tbest: 1633.2534210 (780)\ttotal: 2m 49s\tremaining: 47.4s\n",
      "790:\tlearn: 1496.5660013\ttest: 1632.8796478\tbest: 1632.8796478 (790)\ttotal: 2m 51s\tremaining: 45.2s\n",
      "800:\tlearn: 1495.4128585\ttest: 1632.1921778\tbest: 1632.1921778 (800)\ttotal: 2m 53s\tremaining: 43s\n",
      "810:\tlearn: 1494.5208314\ttest: 1632.0796270\tbest: 1632.0796270 (810)\ttotal: 2m 55s\tremaining: 40.9s\n",
      "820:\tlearn: 1493.3571167\ttest: 1631.8467805\tbest: 1631.8065397 (819)\ttotal: 2m 57s\tremaining: 38.7s\n",
      "830:\tlearn: 1491.7476497\ttest: 1631.4331047\tbest: 1631.4331047 (830)\ttotal: 2m 59s\tremaining: 36.6s\n",
      "840:\tlearn: 1490.2648529\ttest: 1631.1666171\tbest: 1631.1566613 (839)\ttotal: 3m 1s\tremaining: 34.4s\n",
      "850:\tlearn: 1489.1785642\ttest: 1630.7557387\tbest: 1630.7557387 (850)\ttotal: 3m 4s\tremaining: 32.2s\n",
      "860:\tlearn: 1488.0091104\ttest: 1630.6817390\tbest: 1630.6592042 (855)\ttotal: 3m 6s\tremaining: 30s\n",
      "870:\tlearn: 1486.5643640\ttest: 1629.9942560\tbest: 1629.9826772 (868)\ttotal: 3m 8s\tremaining: 27.9s\n",
      "880:\tlearn: 1485.5993185\ttest: 1629.5211550\tbest: 1629.5211550 (880)\ttotal: 3m 10s\tremaining: 25.7s\n",
      "890:\tlearn: 1484.4612031\ttest: 1629.2198272\tbest: 1629.2198272 (890)\ttotal: 3m 12s\tremaining: 23.6s\n",
      "900:\tlearn: 1483.4399982\ttest: 1629.0719861\tbest: 1629.0562789 (896)\ttotal: 3m 14s\tremaining: 21.4s\n",
      "910:\tlearn: 1481.9800814\ttest: 1628.5895399\tbest: 1628.5895399 (910)\ttotal: 3m 17s\tremaining: 19.3s\n",
      "920:\tlearn: 1480.4024445\ttest: 1628.0743091\tbest: 1628.0743091 (920)\ttotal: 3m 19s\tremaining: 17.1s\n",
      "930:\tlearn: 1479.2086995\ttest: 1627.5465114\tbest: 1627.5465114 (930)\ttotal: 3m 21s\tremaining: 14.9s\n",
      "940:\tlearn: 1478.2783973\ttest: 1627.3559096\tbest: 1627.3559096 (940)\ttotal: 3m 23s\tremaining: 12.8s\n",
      "950:\tlearn: 1477.2754480\ttest: 1626.9099591\tbest: 1626.9099591 (950)\ttotal: 3m 25s\tremaining: 10.6s\n",
      "960:\tlearn: 1475.7443223\ttest: 1626.1704948\tbest: 1626.1704948 (960)\ttotal: 3m 27s\tremaining: 8.43s\n",
      "970:\tlearn: 1474.9391371\ttest: 1625.8627243\tbest: 1625.8536745 (969)\ttotal: 3m 29s\tremaining: 6.27s\n",
      "980:\tlearn: 1473.8155621\ttest: 1625.3945717\tbest: 1625.3945717 (980)\ttotal: 3m 31s\tremaining: 4.1s\n",
      "990:\tlearn: 1472.0348865\ttest: 1624.8941177\tbest: 1624.8941177 (990)\ttotal: 3m 34s\tremaining: 1.94s\n",
      "999:\tlearn: 1471.2397206\ttest: 1624.6539377\tbest: 1624.6539377 (999)\ttotal: 3m 36s\tremaining: 0us\n",
      "\n",
      "bestTest = 1624.653938\n",
      "bestIteration = 999\n",
      "\n",
      "Wall time: 3min 37s\n"
     ]
    }
   ],
   "source": [
    "%%time\n",
    "start_time = datetime.now() \n",
    "cb = CatBoostRegressor(iterations=1000, depth=8, loss_function='RMSE',random_state=42,\n",
    "                       learning_rate=0.1, cat_features=categorical_features,verbose=10)\n",
    "cb.fit(X_train, y_train, eval_set=(X_valid, y_valid))\n",
    "\n",
    "cb_time = datetime.now() - start_time\n",
    "cb_time = cb_time.total_seconds()"
   ]
  },
  {
   "cell_type": "code",
   "execution_count": 81,
   "metadata": {},
   "outputs": [
    {
     "data": {
      "text/plain": [
       "1624.6539376820447"
      ]
     },
     "execution_count": 81,
     "metadata": {},
     "output_type": "execute_result"
    }
   ],
   "source": [
    "predicted_valid = cb.predict(X_valid)\n",
    "cb_valid_rmse = rmse(y_valid, predicted_valid)\n",
    "cb_valid_rmse"
   ]
  },
  {
   "cell_type": "code",
   "execution_count": 82,
   "metadata": {},
   "outputs": [
    {
     "name": "stdout",
     "output_type": "stream",
     "text": [
      "Wall time: 457 ms\n"
     ]
    },
    {
     "data": {
      "text/plain": [
       "1621.238768668941"
      ]
     },
     "execution_count": 82,
     "metadata": {},
     "output_type": "execute_result"
    }
   ],
   "source": [
    "%%time\n",
    "start_time = datetime.now()\n",
    "predicted = cb.predict(features_test)\n",
    "\n",
    "cb_ptime = datetime.now() - start_time\n",
    "cb_ptime = cb_ptime.total_seconds()\n",
    "cb_rmse = rmse(target_test, predicted)\n",
    "cb_rmse"
   ]
  },
  {
   "cell_type": "code",
   "execution_count": 83,
   "metadata": {},
   "outputs": [
    {
     "data": {
      "text/html": [
       "<div>\n",
       "<style scoped>\n",
       "    .dataframe tbody tr th:only-of-type {\n",
       "        vertical-align: middle;\n",
       "    }\n",
       "\n",
       "    .dataframe tbody tr th {\n",
       "        vertical-align: top;\n",
       "    }\n",
       "\n",
       "    .dataframe thead th {\n",
       "        text-align: right;\n",
       "    }\n",
       "</style>\n",
       "<table border=\"1\" class=\"dataframe\">\n",
       "  <thead>\n",
       "    <tr style=\"text-align: right;\">\n",
       "      <th></th>\n",
       "      <th>Model</th>\n",
       "      <th>Training time, s</th>\n",
       "      <th>Prediction time, s</th>\n",
       "      <th>RMSE valid</th>\n",
       "      <th>RMSE test</th>\n",
       "    </tr>\n",
       "  </thead>\n",
       "  <tbody>\n",
       "    <tr>\n",
       "      <th>0</th>\n",
       "      <td>Catboost</td>\n",
       "      <td>217.727303</td>\n",
       "      <td>0.454731</td>\n",
       "      <td>1624.7</td>\n",
       "      <td>1621.2</td>\n",
       "    </tr>\n",
       "  </tbody>\n",
       "</table>\n",
       "</div>"
      ],
      "text/plain": [
       "      Model  Training time, s  Prediction time, s  RMSE valid  RMSE test\n",
       "0  Catboost        217.727303            0.454731      1624.7     1621.2"
      ]
     },
     "execution_count": 83,
     "metadata": {},
     "output_type": "execute_result"
    }
   ],
   "source": [
    "res_cb = pd.DataFrame({'Model': ['Catboost'],\n",
    "                        'Training time, s': [cb_time], \n",
    "                        'Prediction time, s': [cb_ptime],\n",
    "                       'RMSE valid':[cb_valid_rmse.round(1)],\n",
    "                       'RMSE test':[cb_rmse.round(1)]})\n",
    "res_cb"
   ]
  },
  {
   "cell_type": "code",
   "execution_count": 84,
   "metadata": {},
   "outputs": [
    {
     "name": "stderr",
     "output_type": "stream",
     "text": [
      "C:\\Users\\ROKO000000109\\AppData\\Local\\Temp\\ipykernel_5580\\3565453134.py:1: FutureWarning: The frame.append method is deprecated and will be removed from pandas in a future version. Use pandas.concat instead.\n",
      "  res = res_lin.append(res_gbm).append(res_cb)\n"
     ]
    }
   ],
   "source": [
    "res = res_lin.append(res_gbm).append(res_cb)"
   ]
  },
  {
   "attachments": {},
   "cell_type": "markdown",
   "metadata": {},
   "source": [
    "## Model analysis"
   ]
  },
  {
   "attachments": {},
   "cell_type": "markdown",
   "metadata": {},
   "source": [
    "Below is a table with the results of training linear regression models, LighGmb and Catboost."
   ]
  },
  {
   "cell_type": "code",
   "execution_count": 85,
   "metadata": {},
   "outputs": [
    {
     "data": {
      "text/html": [
       "<div>\n",
       "<style scoped>\n",
       "    .dataframe tbody tr th:only-of-type {\n",
       "        vertical-align: middle;\n",
       "    }\n",
       "\n",
       "    .dataframe tbody tr th {\n",
       "        vertical-align: top;\n",
       "    }\n",
       "\n",
       "    .dataframe thead th {\n",
       "        text-align: right;\n",
       "    }\n",
       "</style>\n",
       "<table border=\"1\" class=\"dataframe\">\n",
       "  <thead>\n",
       "    <tr style=\"text-align: right;\">\n",
       "      <th></th>\n",
       "      <th>Training time, s</th>\n",
       "      <th>Prediction time, s</th>\n",
       "      <th>RMSE valid</th>\n",
       "      <th>RMSE test</th>\n",
       "    </tr>\n",
       "    <tr>\n",
       "      <th>Model</th>\n",
       "      <th></th>\n",
       "      <th></th>\n",
       "      <th></th>\n",
       "      <th></th>\n",
       "    </tr>\n",
       "  </thead>\n",
       "  <tbody>\n",
       "    <tr>\n",
       "      <th>Linreg</th>\n",
       "      <td>3.588003</td>\n",
       "      <td>0.140416</td>\n",
       "      <td>2839.0</td>\n",
       "      <td>2793.0</td>\n",
       "    </tr>\n",
       "    <tr>\n",
       "      <th>Lightgbm</th>\n",
       "      <td>0.545082</td>\n",
       "      <td>0.141601</td>\n",
       "      <td>1753.0</td>\n",
       "      <td>1750.0</td>\n",
       "    </tr>\n",
       "    <tr>\n",
       "      <th>Catboost</th>\n",
       "      <td>217.727303</td>\n",
       "      <td>0.454731</td>\n",
       "      <td>1624.7</td>\n",
       "      <td>1621.2</td>\n",
       "    </tr>\n",
       "  </tbody>\n",
       "</table>\n",
       "</div>"
      ],
      "text/plain": [
       "          Training time, s  Prediction time, s  RMSE valid  RMSE test\n",
       "Model                                                                \n",
       "Linreg            3.588003            0.140416      2839.0     2793.0\n",
       "Lightgbm          0.545082            0.141601      1753.0     1750.0\n",
       "Catboost        217.727303            0.454731      1624.7     1621.2"
      ]
     },
     "execution_count": 85,
     "metadata": {},
     "output_type": "execute_result"
    }
   ],
   "source": [
    "res.set_index('Model')"
   ]
  },
  {
   "attachments": {},
   "cell_type": "markdown",
   "metadata": {},
   "source": [
    "The LighGmb model was the fastest to learn, with a learning time of less than a second. LightGbm is also the fastest predictor. The best result in terms of RMSE metric was shown by the Catboost model, but the model takes much longer to learn than the LightGbm.\n",
    "\n",
    "### Conclusion \n",
    "By the combination of parameters: learning time, speed and quality of the prediction the LightGbm model is the best."
   ]
  },
  {
   "cell_type": "code",
   "execution_count": null,
   "metadata": {},
   "outputs": [],
   "source": []
  }
 ],
 "metadata": {
  "kernelspec": {
   "display_name": "Python 3 (ipykernel)",
   "language": "python",
   "name": "python3"
  },
  "language_info": {
   "codemirror_mode": {
    "name": "ipython",
    "version": 3
   },
   "file_extension": ".py",
   "mimetype": "text/x-python",
   "name": "python",
   "nbconvert_exporter": "python",
   "pygments_lexer": "ipython3",
   "version": "3.9.13"
  },
  "toc": {
   "base_numbering": 1,
   "nav_menu": {
    "height": "164px",
    "width": "179px"
   },
   "number_sections": true,
   "sideBar": true,
   "skip_h1_title": true,
   "title_cell": "Table of Contents",
   "title_sidebar": "Contents",
   "toc_cell": false,
   "toc_position": {},
   "toc_section_display": true,
   "toc_window_display": true
  }
 },
 "nbformat": 4,
 "nbformat_minor": 4
}
